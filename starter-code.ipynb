{
 "cells": [
  {
   "cell_type": "code",
   "execution_count": null,
   "metadata": {},
   "outputs": [],
   "source": []
  },
  {
   "cell_type": "markdown",
   "metadata": {},
   "source": [
    "# Project 1: Driving Licenses, Traffic Accidents and Casualties Analysis"
   ]
  },
  {
   "cell_type": "markdown",
   "metadata": {},
   "source": [
    "## Problem Statment\n",
    "\n",
    "Craft your problem statement here using the prompt from the README and other sources you find during your investigation."
   ]
  },
  {
   "cell_type": "markdown",
   "metadata": {},
   "source": [
    "The dataset is about traffic accidents and driving license in Saudi Arabia, which were published by from General Authority for Statistics. This project aims to discover the patterns and trends of the number of accidents and licenses for each administrative regions in Saudi Arabia."
   ]
  },
  {
   "cell_type": "markdown",
   "metadata": {},
   "source": [
    "## Executive Summary\n",
    "Write an executive summary that summarizes the problem and your key findings."
   ]
  },
  {
   "cell_type": "markdown",
   "metadata": {},
   "source": []
  },
  {
   "cell_type": "markdown",
   "metadata": {},
   "source": [
    "### Contents:\n",
    "- [Datasets Description](#Datasets-Description)\n",
    "- [Data Import & Cleaning](#Data-Import-and-Cleaning)\n",
    "- [Exploratory Data Analysis](#Exploratory-Data-Analysis)\n",
    "- [Data Visualization](#Visualize-the-data)\n",
    "- [Descriptive and Inferential Statistics](#Descriptive-and-Inferential-Statistics)\n",
    "- [Outside Research](#Outside-Research)\n",
    "- [Conclusions and Recommendations](#Conclusions-and-Recommendations)"
   ]
  },
  {
   "cell_type": "markdown",
   "metadata": {},
   "source": [
    "**If you combine your problem statement, executive summary, data dictionary, and conclusions/recommendations, you have an amazing README.md file that quickly aligns your audience to the contents of your project.** Don't forget to cite your data sources!"
   ]
  },
  {
   "cell_type": "markdown",
   "metadata": {},
   "source": [
    "*All libraries used should be added here, including any Jupyter magic commands*"
   ]
  },
  {
   "cell_type": "code",
   "execution_count": 980,
   "metadata": {},
   "outputs": [],
   "source": [
    "#Imports\n",
    "import pandas as pd\n",
    "import numpy as np\n",
    "import matplotlib.pyplot as plt\n",
    "import seaborn as sns\n",
    "%matplotlib inline"
   ]
  },
  {
   "cell_type": "markdown",
   "metadata": {},
   "source": [
    "## Datasets Description\n",
    "\n",
    "[Driving Licenses](https://datasource.kapsarc.org/explore/dataset/saudi-arabia-driving-licenses-issued-in-the-kingdom-2004-2008/information/?disjunctive.administritive_area&sort=time_period&location=5,24.37495,45.08024&basemap=jawg.streets)\n",
    "This dataset contains Saudi Arabia Driving Licenses Issued By Administrative Area for 1993 - 2016. Data from General Authority for Statistics . Follow datasource.kapsarc.org for timely data to advance energy economics research.\n",
    "\n",
    "[Traffic Accidents and Casualties](https://datasource.kapsarc.org/explore/dataset/saudi-arabia-traffic-accidents-and-casualties-injured-dead-2008/export/?disjunctive.region&disjunctive.indicator&sort=time_period)\n",
    "This dataset contains Saudi Arabia Traffic Accidents and Casualties by Region for 2016. Data from General Authority for Statistics. Follow datasource.kapsarc.org for timely data to advance energy economics research.\n"
   ]
  },
  {
   "cell_type": "markdown",
   "metadata": {},
   "source": [
    "## Data Import and Cleaning"
   ]
  },
  {
   "cell_type": "markdown",
   "metadata": {},
   "source": [
    "#### 1. Read In Driving Licenses & Traffic Accidents Data\n",
    "Read in the `saudi-arabia-traffic-accidents-2008.csv` and `saudi-arabia-driving-licenses-2004-2008.csv` files and assign them to appropriately named pandas dataframes."
   ]
  },
  {
   "cell_type": "code",
   "execution_count": 981,
   "metadata": {},
   "outputs": [],
   "source": [
    "#traffic_accidents[traffic_accidents['Region']=='Total']\n",
    "#Code\n",
    "traffic_accidents4=pd.read_csv('./../data/saudi-arabia-traffic-accidents-2008.csv', sep=';')\n",
    "driving_licenses=pd.read_csv('./../data/saudi-arabia-driving-licenses-2004-2008.csv',sep=';')"
   ]
  },
  {
   "cell_type": "markdown",
   "metadata": {},
   "source": [
    "#### 2. Display data\n",
    "\n",
    "Print the first 10 rows of each dataframe to your jupyter notebook"
   ]
  },
  {
   "cell_type": "code",
   "execution_count": 982,
   "metadata": {
    "scrolled": false
   },
   "outputs": [
    {
     "data": {
      "text/html": [
       "<div>\n",
       "<style scoped>\n",
       "    .dataframe tbody tr th:only-of-type {\n",
       "        vertical-align: middle;\n",
       "    }\n",
       "\n",
       "    .dataframe tbody tr th {\n",
       "        vertical-align: top;\n",
       "    }\n",
       "\n",
       "    .dataframe thead th {\n",
       "        text-align: right;\n",
       "    }\n",
       "</style>\n",
       "<table border=\"1\" class=\"dataframe\">\n",
       "  <thead>\n",
       "    <tr style=\"text-align: right;\">\n",
       "      <th></th>\n",
       "      <th>Unnamed: 0</th>\n",
       "      <th>Unnamed: 0.1</th>\n",
       "      <th>Year</th>\n",
       "      <th>Region</th>\n",
       "      <th>Indicator</th>\n",
       "      <th>Value</th>\n",
       "      <th>geo_point_2d</th>\n",
       "    </tr>\n",
       "  </thead>\n",
       "  <tbody>\n",
       "    <tr>\n",
       "      <th>0</th>\n",
       "      <td>0</td>\n",
       "      <td>0</td>\n",
       "      <td>(2016)</td>\n",
       "      <td>Makkah</td>\n",
       "      <td>No. of Casualties - Injured</td>\n",
       "      <td>12383n</td>\n",
       "      <td>21.628962766, 41.2636898334</td>\n",
       "    </tr>\n",
       "    <tr>\n",
       "      <th>1</th>\n",
       "      <td>1</td>\n",
       "      <td>1</td>\n",
       "      <td>(2016)</td>\n",
       "      <td>Eastern Region</td>\n",
       "      <td>No. of Casualties - Dead</td>\n",
       "      <td>1113n</td>\n",
       "      <td>23.2883307307, 50.1478302439</td>\n",
       "    </tr>\n",
       "    <tr>\n",
       "      <th>2</th>\n",
       "      <td>2</td>\n",
       "      <td>2</td>\n",
       "      <td>(2016)</td>\n",
       "      <td>Tabouk</td>\n",
       "      <td>No. of Casualties - Dead</td>\n",
       "      <td>434n</td>\n",
       "      <td>27.90165499, 37.2598581394</td>\n",
       "    </tr>\n",
       "    <tr>\n",
       "      <th>3</th>\n",
       "      <td>3</td>\n",
       "      <td>3</td>\n",
       "      <td>(2016)</td>\n",
       "      <td>Hail</td>\n",
       "      <td>No. of Casualties - Dead</td>\n",
       "      <td>299n</td>\n",
       "      <td>27.400845724, 41.4406960508</td>\n",
       "    </tr>\n",
       "    <tr>\n",
       "      <th>4</th>\n",
       "      <td>4</td>\n",
       "      <td>4</td>\n",
       "      <td>(2016)</td>\n",
       "      <td>Hail</td>\n",
       "      <td>No. of Accidents</td>\n",
       "      <td>10199n</td>\n",
       "      <td>27.400845724, 41.4406960508</td>\n",
       "    </tr>\n",
       "    <tr>\n",
       "      <th>5</th>\n",
       "      <td>5</td>\n",
       "      <td>5</td>\n",
       "      <td>(2016)</td>\n",
       "      <td>Northern Boarder</td>\n",
       "      <td>No. of Casualties - Dead</td>\n",
       "      <td>193n</td>\n",
       "      <td>30.197074783, 41.8171186952</td>\n",
       "    </tr>\n",
       "    <tr>\n",
       "      <th>6</th>\n",
       "      <td>6</td>\n",
       "      <td>6</td>\n",
       "      <td>(2017)</td>\n",
       "      <td>Jazan</td>\n",
       "      <td>No. of Accidents</td>\n",
       "      <td>22161n</td>\n",
       "      <td>17.2072313962, 42.6525807422</td>\n",
       "    </tr>\n",
       "    <tr>\n",
       "      <th>7</th>\n",
       "      <td>7</td>\n",
       "      <td>7</td>\n",
       "      <td>(2017)</td>\n",
       "      <td>Al-Jouf</td>\n",
       "      <td>No. of Accidents</td>\n",
       "      <td>10469n</td>\n",
       "      <td>29.9677445762, 39.5570371172</td>\n",
       "    </tr>\n",
       "    <tr>\n",
       "      <th>8</th>\n",
       "      <td>8</td>\n",
       "      <td>8</td>\n",
       "      <td>(2017)</td>\n",
       "      <td>Total</td>\n",
       "      <td>No. of Casualties - Dead</td>\n",
       "      <td>7489n</td>\n",
       "      <td>NaN</td>\n",
       "    </tr>\n",
       "    <tr>\n",
       "      <th>9</th>\n",
       "      <td>9</td>\n",
       "      <td>9</td>\n",
       "      <td>(2016)</td>\n",
       "      <td>Northern Boarder</td>\n",
       "      <td>No. of Casualties - Injured</td>\n",
       "      <td>631n</td>\n",
       "      <td>30.197074783, 41.8171186952</td>\n",
       "    </tr>\n",
       "  </tbody>\n",
       "</table>\n",
       "</div>"
      ],
      "text/plain": [
       "   Unnamed: 0  Unnamed: 0.1    Year            Region  \\\n",
       "0           0             0  (2016)            Makkah   \n",
       "1           1             1  (2016)    Eastern Region   \n",
       "2           2             2  (2016)            Tabouk   \n",
       "3           3             3  (2016)              Hail   \n",
       "4           4             4  (2016)              Hail   \n",
       "5           5             5  (2016)  Northern Boarder   \n",
       "6           6             6  (2017)             Jazan   \n",
       "7           7             7  (2017)           Al-Jouf   \n",
       "8           8             8  (2017)             Total   \n",
       "9           9             9  (2016)  Northern Boarder   \n",
       "\n",
       "                     Indicator   Value                  geo_point_2d  \n",
       "0  No. of Casualties - Injured  12383n   21.628962766, 41.2636898334  \n",
       "1     No. of Casualties - Dead   1113n  23.2883307307, 50.1478302439  \n",
       "2     No. of Casualties - Dead    434n    27.90165499, 37.2598581394  \n",
       "3     No. of Casualties - Dead    299n   27.400845724, 41.4406960508  \n",
       "4             No. of Accidents  10199n   27.400845724, 41.4406960508  \n",
       "5     No. of Casualties - Dead    193n   30.197074783, 41.8171186952  \n",
       "6             No. of Accidents  22161n  17.2072313962, 42.6525807422  \n",
       "7             No. of Accidents  10469n  29.9677445762, 39.5570371172  \n",
       "8     No. of Casualties - Dead   7489n                           NaN  \n",
       "9  No. of Casualties - Injured    631n   30.197074783, 41.8171186952  "
      ]
     },
     "execution_count": 982,
     "metadata": {},
     "output_type": "execute_result"
    }
   ],
   "source": [
    "traffic_accidents4.head(10)"
   ]
  },
  {
   "cell_type": "code",
   "execution_count": 983,
   "metadata": {},
   "outputs": [
    {
     "data": {
      "text/html": [
       "<div>\n",
       "<style scoped>\n",
       "    .dataframe tbody tr th:only-of-type {\n",
       "        vertical-align: middle;\n",
       "    }\n",
       "\n",
       "    .dataframe tbody tr th {\n",
       "        vertical-align: top;\n",
       "    }\n",
       "\n",
       "    .dataframe thead th {\n",
       "        text-align: right;\n",
       "    }\n",
       "</style>\n",
       "<table border=\"1\" class=\"dataframe\">\n",
       "  <thead>\n",
       "    <tr style=\"text-align: right;\">\n",
       "      <th></th>\n",
       "      <th>Unnamed: 0</th>\n",
       "      <th>Year</th>\n",
       "      <th>Administritive Area</th>\n",
       "      <th>Driving Liceses</th>\n",
       "      <th>geo_point_2d</th>\n",
       "    </tr>\n",
       "  </thead>\n",
       "  <tbody>\n",
       "    <tr>\n",
       "      <th>0</th>\n",
       "      <td>0</td>\n",
       "      <td>(2012)</td>\n",
       "      <td>Makkah</td>\n",
       "      <td>143954n</td>\n",
       "      <td>21.628962766, 41.2636898334</td>\n",
       "    </tr>\n",
       "    <tr>\n",
       "      <th>1</th>\n",
       "      <td>1</td>\n",
       "      <td>(1994)</td>\n",
       "      <td>Makkah</td>\n",
       "      <td>75349n</td>\n",
       "      <td>21.628962766, 41.2636898334</td>\n",
       "    </tr>\n",
       "    <tr>\n",
       "      <th>2</th>\n",
       "      <td>2</td>\n",
       "      <td>(1998)</td>\n",
       "      <td>Makkah</td>\n",
       "      <td>86082n</td>\n",
       "      <td>21.628962766, 41.2636898334</td>\n",
       "    </tr>\n",
       "    <tr>\n",
       "      <th>3</th>\n",
       "      <td>3</td>\n",
       "      <td>(2004)</td>\n",
       "      <td>Makkah</td>\n",
       "      <td>86636n</td>\n",
       "      <td>21.628962766, 41.2636898334</td>\n",
       "    </tr>\n",
       "    <tr>\n",
       "      <th>4</th>\n",
       "      <td>4</td>\n",
       "      <td>(2005)</td>\n",
       "      <td>Makkah</td>\n",
       "      <td>65099n</td>\n",
       "      <td>21.628962766, 41.2636898334</td>\n",
       "    </tr>\n",
       "    <tr>\n",
       "      <th>5</th>\n",
       "      <td>5</td>\n",
       "      <td>(2008)</td>\n",
       "      <td>Makkah</td>\n",
       "      <td>77013n</td>\n",
       "      <td>21.628962766, 41.2636898334</td>\n",
       "    </tr>\n",
       "    <tr>\n",
       "      <th>6</th>\n",
       "      <td>6</td>\n",
       "      <td>(2014)</td>\n",
       "      <td>Madinah</td>\n",
       "      <td>31447n</td>\n",
       "      <td>24.927534539, 39.4918237173</td>\n",
       "    </tr>\n",
       "    <tr>\n",
       "      <th>7</th>\n",
       "      <td>7</td>\n",
       "      <td>(2013)</td>\n",
       "      <td>Madinah</td>\n",
       "      <td>28513n</td>\n",
       "      <td>24.927534539, 39.4918237173</td>\n",
       "    </tr>\n",
       "    <tr>\n",
       "      <th>8</th>\n",
       "      <td>8</td>\n",
       "      <td>(2012)</td>\n",
       "      <td>Madinah</td>\n",
       "      <td>14459n</td>\n",
       "      <td>24.927534539, 39.4918237173</td>\n",
       "    </tr>\n",
       "    <tr>\n",
       "      <th>9</th>\n",
       "      <td>9</td>\n",
       "      <td>(1994)</td>\n",
       "      <td>Madinah</td>\n",
       "      <td>3767n</td>\n",
       "      <td>24.927534539, 39.4918237173</td>\n",
       "    </tr>\n",
       "  </tbody>\n",
       "</table>\n",
       "</div>"
      ],
      "text/plain": [
       "   Unnamed: 0    Year Administritive Area Driving Liceses  \\\n",
       "0           0  (2012)              Makkah         143954n   \n",
       "1           1  (1994)              Makkah          75349n   \n",
       "2           2  (1998)              Makkah          86082n   \n",
       "3           3  (2004)              Makkah          86636n   \n",
       "4           4  (2005)              Makkah          65099n   \n",
       "5           5  (2008)              Makkah          77013n   \n",
       "6           6  (2014)             Madinah          31447n   \n",
       "7           7  (2013)             Madinah          28513n   \n",
       "8           8  (2012)             Madinah          14459n   \n",
       "9           9  (1994)             Madinah           3767n   \n",
       "\n",
       "                  geo_point_2d  \n",
       "0  21.628962766, 41.2636898334  \n",
       "1  21.628962766, 41.2636898334  \n",
       "2  21.628962766, 41.2636898334  \n",
       "3  21.628962766, 41.2636898334  \n",
       "4  21.628962766, 41.2636898334  \n",
       "5  21.628962766, 41.2636898334  \n",
       "6  24.927534539, 39.4918237173  \n",
       "7  24.927534539, 39.4918237173  \n",
       "8  24.927534539, 39.4918237173  \n",
       "9  24.927534539, 39.4918237173  "
      ]
     },
     "execution_count": 983,
     "metadata": {},
     "output_type": "execute_result"
    }
   ],
   "source": [
    "driving_licenses.head(10)"
   ]
  },
  {
   "cell_type": "code",
   "execution_count": 984,
   "metadata": {
    "scrolled": true
   },
   "outputs": [
    {
     "data": {
      "text/plain": [
       "(84, 5)"
      ]
     },
     "execution_count": 984,
     "metadata": {},
     "output_type": "execute_result"
    }
   ],
   "source": [
    "# Data Cleaning\n",
    "traffic_accidents4['Value'] = traffic_accidents4['Value'].str.strip('n')\n",
    "traffic_accidents4['Year']=traffic_accidents4['Year'].str.strip('()')\n",
    "traffic_accidents4.drop('Unnamed: 0', axis=1, inplace=True)\n",
    "traffic_accidents4.drop('Unnamed: 0.1', axis=1, inplace=True)\n",
    "traffic_accidents4.shape"
   ]
  },
  {
   "cell_type": "code",
   "execution_count": 985,
   "metadata": {},
   "outputs": [
    {
     "data": {
      "text/plain": [
       "(350, 4)"
      ]
     },
     "execution_count": 985,
     "metadata": {},
     "output_type": "execute_result"
    }
   ],
   "source": [
    "# Data Cleaning\n",
    "driving_licenses['Driving Liceses'] = driving_licenses['Driving Liceses'].str.strip('n')\n",
    "driving_licenses['Year']=driving_licenses['Year'].str.strip('()')\n",
    "driving_licenses.drop('Unnamed: 0', axis=1, inplace=True)\n",
    "driving_licenses.shape"
   ]
  },
  {
   "cell_type": "markdown",
   "metadata": {},
   "source": [
    "#### 3. Briefly describe the data\n",
    "\n",
    "Take your time looking through the data and briefly describe the data in the markdown cell below. Note things about what the columns might mean, and the general information that is conveyed in the dataframe."
   ]
  },
  {
   "cell_type": "markdown",
   "metadata": {},
   "source": [
    "**The traffic accidents and casualties data contains 5 columns and 84 rows, which covers the number of accidents\n",
    "and casualties in Saudi Arabia during two years period 2016 and 2017.**"
   ]
  },
  {
   "cell_type": "code",
   "execution_count": 987,
   "metadata": {
    "scrolled": true
   },
   "outputs": [
    {
     "name": "stdout",
     "output_type": "stream",
     "text": [
      "<class 'pandas.core.frame.DataFrame'>\n",
      "RangeIndex: 84 entries, 0 to 83\n",
      "Data columns (total 5 columns):\n",
      "Year            84 non-null object\n",
      "Region          84 non-null object\n",
      "Indicator       84 non-null object\n",
      "Value           84 non-null object\n",
      "geo_point_2d    78 non-null object\n",
      "dtypes: object(5)\n",
      "memory usage: 3.4+ KB\n"
     ]
    }
   ],
   "source": [
    "traffic_accidents4.info()"
   ]
  },
  {
   "cell_type": "markdown",
   "metadata": {},
   "source": [
    "**The Driving Licenses data contains 4 columns and 350 rows, which covers the number of Driving Licenses issued in Saudi Arabia during the period 1993 - 2017, distributed among 13 administrative Area.**"
   ]
  },
  {
   "cell_type": "code",
   "execution_count": 988,
   "metadata": {},
   "outputs": [
    {
     "name": "stdout",
     "output_type": "stream",
     "text": [
      "<class 'pandas.core.frame.DataFrame'>\n",
      "RangeIndex: 350 entries, 0 to 349\n",
      "Data columns (total 4 columns):\n",
      "Year                   350 non-null object\n",
      "Administritive Area    350 non-null object\n",
      "Driving Liceses        350 non-null object\n",
      "geo_point_2d           325 non-null object\n",
      "dtypes: object(4)\n",
      "memory usage: 11.0+ KB\n"
     ]
    }
   ],
   "source": [
    "driving_licenses.info()"
   ]
  },
  {
   "cell_type": "markdown",
   "metadata": {},
   "source": [
    "#### 4a. How complete is the data?\n",
    "\n",
    "Investigate missing values etc."
   ]
  },
  {
   "cell_type": "code",
   "execution_count": 989,
   "metadata": {},
   "outputs": [
    {
     "data": {
      "text/plain": [
       "Year            0\n",
       "Region          0\n",
       "Indicator       0\n",
       "Value           0\n",
       "geo_point_2d    6\n",
       "dtype: int64"
      ]
     },
     "execution_count": 989,
     "metadata": {},
     "output_type": "execute_result"
    }
   ],
   "source": [
    "traffic_accidents4.isnull().sum()"
   ]
  },
  {
   "cell_type": "code",
   "execution_count": 990,
   "metadata": {},
   "outputs": [
    {
     "data": {
      "text/plain": [
       "Year                    0\n",
       "Administritive Area     0\n",
       "Driving Liceses         0\n",
       "geo_point_2d           25\n",
       "dtype: int64"
      ]
     },
     "execution_count": 990,
     "metadata": {},
     "output_type": "execute_result"
    }
   ],
   "source": [
    "driving_licenses.isnull().sum()"
   ]
  },
  {
   "cell_type": "markdown",
   "metadata": {},
   "source": [
    "**To identify the missing values of traffic accidents and casualties data**"
   ]
  },
  {
   "cell_type": "code",
   "execution_count": 991,
   "metadata": {},
   "outputs": [
    {
     "data": {
      "text/html": [
       "<div>\n",
       "<style scoped>\n",
       "    .dataframe tbody tr th:only-of-type {\n",
       "        vertical-align: middle;\n",
       "    }\n",
       "\n",
       "    .dataframe tbody tr th {\n",
       "        vertical-align: top;\n",
       "    }\n",
       "\n",
       "    .dataframe thead th {\n",
       "        text-align: right;\n",
       "    }\n",
       "</style>\n",
       "<table border=\"1\" class=\"dataframe\">\n",
       "  <thead>\n",
       "    <tr style=\"text-align: right;\">\n",
       "      <th></th>\n",
       "      <th>Year</th>\n",
       "      <th>Region</th>\n",
       "      <th>Indicator</th>\n",
       "      <th>Value</th>\n",
       "      <th>geo_point_2d</th>\n",
       "    </tr>\n",
       "  </thead>\n",
       "  <tbody>\n",
       "    <tr>\n",
       "      <th>8</th>\n",
       "      <td>2017</td>\n",
       "      <td>Total</td>\n",
       "      <td>No. of Casualties - Dead</td>\n",
       "      <td>7489</td>\n",
       "      <td>NaN</td>\n",
       "    </tr>\n",
       "    <tr>\n",
       "      <th>29</th>\n",
       "      <td>2016</td>\n",
       "      <td>Total</td>\n",
       "      <td>No. of Accidents</td>\n",
       "      <td>533380</td>\n",
       "      <td>NaN</td>\n",
       "    </tr>\n",
       "    <tr>\n",
       "      <th>30</th>\n",
       "      <td>2016</td>\n",
       "      <td>Total</td>\n",
       "      <td>No. of Casualties - Injured</td>\n",
       "      <td>38120</td>\n",
       "      <td>NaN</td>\n",
       "    </tr>\n",
       "    <tr>\n",
       "      <th>68</th>\n",
       "      <td>2017</td>\n",
       "      <td>Total</td>\n",
       "      <td>No. of Accidents</td>\n",
       "      <td>460488</td>\n",
       "      <td>NaN</td>\n",
       "    </tr>\n",
       "    <tr>\n",
       "      <th>69</th>\n",
       "      <td>2017</td>\n",
       "      <td>Total</td>\n",
       "      <td>No. of Casualties - Injured</td>\n",
       "      <td>33199</td>\n",
       "      <td>NaN</td>\n",
       "    </tr>\n",
       "    <tr>\n",
       "      <th>77</th>\n",
       "      <td>2016</td>\n",
       "      <td>Total</td>\n",
       "      <td>No. of Casualties - Dead</td>\n",
       "      <td>9031</td>\n",
       "      <td>NaN</td>\n",
       "    </tr>\n",
       "  </tbody>\n",
       "</table>\n",
       "</div>"
      ],
      "text/plain": [
       "    Year Region                    Indicator   Value geo_point_2d\n",
       "8   2017  Total     No. of Casualties - Dead    7489          NaN\n",
       "29  2016  Total             No. of Accidents  533380          NaN\n",
       "30  2016  Total  No. of Casualties - Injured   38120          NaN\n",
       "68  2017  Total             No. of Accidents  460488          NaN\n",
       "69  2017  Total  No. of Casualties - Injured   33199          NaN\n",
       "77  2016  Total     No. of Casualties - Dead    9031          NaN"
      ]
     },
     "execution_count": 991,
     "metadata": {},
     "output_type": "execute_result"
    }
   ],
   "source": [
    "traffic_accidents4[traffic_accidents4.isnull().any(axis=1)]#['geo_point_2d']"
   ]
  },
  {
   "cell_type": "markdown",
   "metadata": {},
   "source": [
    "**To identify the missing values of driving licenses  data**"
   ]
  },
  {
   "cell_type": "code",
   "execution_count": 992,
   "metadata": {
    "scrolled": true
   },
   "outputs": [
    {
     "data": {
      "text/html": [
       "<div>\n",
       "<style scoped>\n",
       "    .dataframe tbody tr th:only-of-type {\n",
       "        vertical-align: middle;\n",
       "    }\n",
       "\n",
       "    .dataframe tbody tr th {\n",
       "        vertical-align: top;\n",
       "    }\n",
       "\n",
       "    .dataframe thead th {\n",
       "        text-align: right;\n",
       "    }\n",
       "</style>\n",
       "<table border=\"1\" class=\"dataframe\">\n",
       "  <thead>\n",
       "    <tr style=\"text-align: right;\">\n",
       "      <th></th>\n",
       "      <th>Year</th>\n",
       "      <th>Administritive Area</th>\n",
       "      <th>Driving Liceses</th>\n",
       "      <th>geo_point_2d</th>\n",
       "    </tr>\n",
       "  </thead>\n",
       "  <tbody>\n",
       "    <tr>\n",
       "      <th>58</th>\n",
       "      <td>2015</td>\n",
       "      <td>Total</td>\n",
       "      <td>435439</td>\n",
       "      <td>NaN</td>\n",
       "    </tr>\n",
       "    <tr>\n",
       "      <th>59</th>\n",
       "      <td>2017</td>\n",
       "      <td>Total</td>\n",
       "      <td>928165</td>\n",
       "      <td>NaN</td>\n",
       "    </tr>\n",
       "    <tr>\n",
       "      <th>60</th>\n",
       "      <td>1993</td>\n",
       "      <td>Total</td>\n",
       "      <td>294893</td>\n",
       "      <td>NaN</td>\n",
       "    </tr>\n",
       "    <tr>\n",
       "      <th>61</th>\n",
       "      <td>1994</td>\n",
       "      <td>Total</td>\n",
       "      <td>303520</td>\n",
       "      <td>NaN</td>\n",
       "    </tr>\n",
       "    <tr>\n",
       "      <th>62</th>\n",
       "      <td>2003</td>\n",
       "      <td>Total</td>\n",
       "      <td>254858</td>\n",
       "      <td>NaN</td>\n",
       "    </tr>\n",
       "    <tr>\n",
       "      <th>63</th>\n",
       "      <td>2006</td>\n",
       "      <td>Total</td>\n",
       "      <td>267508</td>\n",
       "      <td>NaN</td>\n",
       "    </tr>\n",
       "    <tr>\n",
       "      <th>142</th>\n",
       "      <td>2014</td>\n",
       "      <td>Total</td>\n",
       "      <td>625414</td>\n",
       "      <td>NaN</td>\n",
       "    </tr>\n",
       "    <tr>\n",
       "      <th>143</th>\n",
       "      <td>2010</td>\n",
       "      <td>Total</td>\n",
       "      <td>386510</td>\n",
       "      <td>NaN</td>\n",
       "    </tr>\n",
       "    <tr>\n",
       "      <th>144</th>\n",
       "      <td>2012</td>\n",
       "      <td>Total</td>\n",
       "      <td>411204</td>\n",
       "      <td>NaN</td>\n",
       "    </tr>\n",
       "    <tr>\n",
       "      <th>145</th>\n",
       "      <td>1999</td>\n",
       "      <td>Total</td>\n",
       "      <td>332210</td>\n",
       "      <td>NaN</td>\n",
       "    </tr>\n",
       "    <tr>\n",
       "      <th>146</th>\n",
       "      <td>2002</td>\n",
       "      <td>Total</td>\n",
       "      <td>282038</td>\n",
       "      <td>NaN</td>\n",
       "    </tr>\n",
       "    <tr>\n",
       "      <th>147</th>\n",
       "      <td>2001</td>\n",
       "      <td>Total</td>\n",
       "      <td>264725</td>\n",
       "      <td>NaN</td>\n",
       "    </tr>\n",
       "    <tr>\n",
       "      <th>148</th>\n",
       "      <td>2004</td>\n",
       "      <td>Total</td>\n",
       "      <td>268738</td>\n",
       "      <td>NaN</td>\n",
       "    </tr>\n",
       "    <tr>\n",
       "      <th>149</th>\n",
       "      <td>2005</td>\n",
       "      <td>Total</td>\n",
       "      <td>251203</td>\n",
       "      <td>NaN</td>\n",
       "    </tr>\n",
       "    <tr>\n",
       "      <th>150</th>\n",
       "      <td>2009</td>\n",
       "      <td>Total</td>\n",
       "      <td>376275</td>\n",
       "      <td>NaN</td>\n",
       "    </tr>\n",
       "    <tr>\n",
       "      <th>162</th>\n",
       "      <td>2011</td>\n",
       "      <td>Total</td>\n",
       "      <td>400558</td>\n",
       "      <td>NaN</td>\n",
       "    </tr>\n",
       "    <tr>\n",
       "      <th>163</th>\n",
       "      <td>2000</td>\n",
       "      <td>Total</td>\n",
       "      <td>273238</td>\n",
       "      <td>NaN</td>\n",
       "    </tr>\n",
       "    <tr>\n",
       "      <th>164</th>\n",
       "      <td>2007</td>\n",
       "      <td>Total</td>\n",
       "      <td>331356</td>\n",
       "      <td>NaN</td>\n",
       "    </tr>\n",
       "    <tr>\n",
       "      <th>165</th>\n",
       "      <td>2008</td>\n",
       "      <td>Total</td>\n",
       "      <td>330158</td>\n",
       "      <td>NaN</td>\n",
       "    </tr>\n",
       "    <tr>\n",
       "      <th>239</th>\n",
       "      <td>2013</td>\n",
       "      <td>Total</td>\n",
       "      <td>565314</td>\n",
       "      <td>NaN</td>\n",
       "    </tr>\n",
       "    <tr>\n",
       "      <th>240</th>\n",
       "      <td>1995</td>\n",
       "      <td>Total</td>\n",
       "      <td>251878</td>\n",
       "      <td>NaN</td>\n",
       "    </tr>\n",
       "    <tr>\n",
       "      <th>314</th>\n",
       "      <td>2016</td>\n",
       "      <td>Total</td>\n",
       "      <td>697017</td>\n",
       "      <td>NaN</td>\n",
       "    </tr>\n",
       "    <tr>\n",
       "      <th>315</th>\n",
       "      <td>1997</td>\n",
       "      <td>Total</td>\n",
       "      <td>289296</td>\n",
       "      <td>NaN</td>\n",
       "    </tr>\n",
       "    <tr>\n",
       "      <th>316</th>\n",
       "      <td>1996</td>\n",
       "      <td>Total</td>\n",
       "      <td>237623</td>\n",
       "      <td>NaN</td>\n",
       "    </tr>\n",
       "    <tr>\n",
       "      <th>317</th>\n",
       "      <td>1998</td>\n",
       "      <td>Total</td>\n",
       "      <td>338350</td>\n",
       "      <td>NaN</td>\n",
       "    </tr>\n",
       "  </tbody>\n",
       "</table>\n",
       "</div>"
      ],
      "text/plain": [
       "     Year Administritive Area Driving Liceses geo_point_2d\n",
       "58   2015               Total          435439          NaN\n",
       "59   2017               Total          928165          NaN\n",
       "60   1993               Total          294893          NaN\n",
       "61   1994               Total          303520          NaN\n",
       "62   2003               Total          254858          NaN\n",
       "63   2006               Total          267508          NaN\n",
       "142  2014               Total          625414          NaN\n",
       "143  2010               Total          386510          NaN\n",
       "144  2012               Total          411204          NaN\n",
       "145  1999               Total          332210          NaN\n",
       "146  2002               Total          282038          NaN\n",
       "147  2001               Total          264725          NaN\n",
       "148  2004               Total          268738          NaN\n",
       "149  2005               Total          251203          NaN\n",
       "150  2009               Total          376275          NaN\n",
       "162  2011               Total          400558          NaN\n",
       "163  2000               Total          273238          NaN\n",
       "164  2007               Total          331356          NaN\n",
       "165  2008               Total          330158          NaN\n",
       "239  2013               Total          565314          NaN\n",
       "240  1995               Total          251878          NaN\n",
       "314  2016               Total          697017          NaN\n",
       "315  1997               Total          289296          NaN\n",
       "316  1996               Total          237623          NaN\n",
       "317  1998               Total          338350          NaN"
      ]
     },
     "execution_count": 992,
     "metadata": {},
     "output_type": "execute_result"
    }
   ],
   "source": [
    "driving_licenses[driving_licenses.isnull().any(axis=1)]"
   ]
  },
  {
   "cell_type": "markdown",
   "metadata": {},
   "source": [
    "#### 4b. Are there any obvious issues with the observations?\n",
    "\n",
    "**What is the minimum *possible* value for each dataset? What is the maximum *possible* value?**"
   ]
  },
  {
   "cell_type": "raw",
   "metadata": {},
   "source": [
    "4b. Are there any obvious issues with the observations?\n",
    "before analyzing the data we have first look at the data and see if there are any issues need to be handled.\n",
    " issues:\n",
    "    1) the first and second columns are Unnamed, so we need to remove them.\n",
    "    2) the values of year column contains branches (()), so they should be removed.\n",
    "    3) there are two data types in value and Driving Liceses columns, so we need to remove the latter 'n' for both columns             \n",
    "    4) there are some missing data for the columns geo_point_2d\n",
    "    5) the total values are included in rigion column in traffic accedent data\n",
    "    6) the total values are included in rigion column in driving licenses data\n",
    "    7) we need to rename some values of the regions to unify them in both dataset\n"
   ]
  },
  {
   "cell_type": "markdown",
   "metadata": {},
   "source": [
    "**Minimum  and maximum possible value**"
   ]
  },
  {
   "cell_type": "code",
   "execution_count": 993,
   "metadata": {},
   "outputs": [
    {
     "name": "stdout",
     "output_type": "stream",
     "text": [
      "Year                                2017\n",
      "Region                             Total\n",
      "Indicator    No. of Casualties - Injured\n",
      "Value                              99925\n",
      "dtype: object\n",
      "\n",
      "\n",
      "Year                     2016\n",
      "Region               Al-Baaha\n",
      "Indicator    No. of Accidents\n",
      "Value                    1007\n",
      "dtype: object\n"
     ]
    }
   ],
   "source": [
    "# traffic_accidents\n",
    "print(traffic_accidents4.max())\n",
    "print('\\n')\n",
    "print(traffic_accidents4.min())"
   ]
  },
  {
   "cell_type": "code",
   "execution_count": 994,
   "metadata": {},
   "outputs": [
    {
     "name": "stdout",
     "output_type": "stream",
     "text": [
      "Year                    2017\n",
      "Administritive Area    Total\n",
      "Driving Liceses         9983\n",
      "dtype: object\n",
      "\n",
      "\n",
      "Year                      1993\n",
      "Administritive Area    Al-Baha\n",
      "Driving Liceses         100291\n",
      "dtype: object\n"
     ]
    }
   ],
   "source": [
    "print(driving_licenses.max())\n",
    "print('\\n')\n",
    "print(driving_licenses.min())"
   ]
  },
  {
   "cell_type": "markdown",
   "metadata": {},
   "source": [
    "#### 5. What are your data types? \n",
    "Display the data types of each feature. "
   ]
  },
  {
   "cell_type": "code",
   "execution_count": 995,
   "metadata": {
    "scrolled": true
   },
   "outputs": [
    {
     "data": {
      "text/plain": [
       "Year            object\n",
       "Region          object\n",
       "Indicator       object\n",
       "Value           object\n",
       "geo_point_2d    object\n",
       "dtype: object"
      ]
     },
     "execution_count": 995,
     "metadata": {},
     "output_type": "execute_result"
    }
   ],
   "source": [
    "#code\n",
    "traffic_accidents4.dtypes"
   ]
  },
  {
   "cell_type": "code",
   "execution_count": 996,
   "metadata": {},
   "outputs": [
    {
     "data": {
      "text/plain": [
       "Year                   object\n",
       "Administritive Area    object\n",
       "Driving Liceses        object\n",
       "geo_point_2d           object\n",
       "dtype: object"
      ]
     },
     "execution_count": 996,
     "metadata": {},
     "output_type": "execute_result"
    }
   ],
   "source": [
    "driving_licenses.dtypes"
   ]
  },
  {
   "cell_type": "markdown",
   "metadata": {},
   "source": [
    "What did you learn?\n",
    "- Do any of them seem odd?  \n",
    "- Which ones are not as they should be?  "
   ]
  },
  {
   "cell_type": "markdown",
   "metadata": {},
   "source": [
    "**traffic_accidents4**\n",
    "\n",
    "-Year should be integer\n",
    "\n",
    "-Value should be integer\n",
    "\n",
    "-geo_point_2d should be float\n",
    "\n",
    "**driving_licenses**\n",
    "\n",
    "-Year should be integer\n",
    "\n",
    "-driving Liceses should be integer\n",
    "\n",
    "-geo_point_2d should be float"
   ]
  },
  {
   "cell_type": "markdown",
   "metadata": {},
   "source": [
    "#### 6. Fix incorrect data types\n",
    "Based on what you discovered above, use appropriate methods to re-type incorrectly typed data.\n",
    "- Define a function that will allow you to convert numerical columns to an appropriate numeric type. Use `map` or `apply` to change these columns in each dataframe."
   ]
  },
  {
   "cell_type": "code",
   "execution_count": 997,
   "metadata": {},
   "outputs": [],
   "source": [
    "#code\n",
    "def convert(t):\n",
    "    try :\n",
    "        return int(t)\n",
    "    except:\n",
    "        return np.null\n",
    "        "
   ]
  },
  {
   "cell_type": "code",
   "execution_count": 998,
   "metadata": {},
   "outputs": [
    {
     "data": {
      "text/plain": [
       "Year             int64\n",
       "Region          object\n",
       "Indicator       object\n",
       "Value           object\n",
       "geo_point_2d    object\n",
       "dtype: object"
      ]
     },
     "execution_count": 998,
     "metadata": {},
     "output_type": "execute_result"
    }
   ],
   "source": [
    "traffic_accidents4['Year']= traffic_accidents4['Year'].map(convert)\n",
    "traffic_accidents4.dtypes"
   ]
  },
  {
   "cell_type": "code",
   "execution_count": 999,
   "metadata": {},
   "outputs": [
    {
     "data": {
      "text/plain": [
       "Year                    int64\n",
       "Administritive Area    object\n",
       "Driving Liceses        object\n",
       "geo_point_2d           object\n",
       "dtype: object"
      ]
     },
     "execution_count": 999,
     "metadata": {},
     "output_type": "execute_result"
    }
   ],
   "source": [
    "driving_licenses['Year']= driving_licenses['Year'].map(convert)\n",
    "driving_licenses.dtypes"
   ]
  },
  {
   "cell_type": "markdown",
   "metadata": {},
   "source": [
    "- Make new columns `x` and `y` using `geo_point_2d`"
   ]
  },
  {
   "cell_type": "code",
   "execution_count": 1000,
   "metadata": {},
   "outputs": [
    {
     "data": {
      "text/html": [
       "<div>\n",
       "<style scoped>\n",
       "    .dataframe tbody tr th:only-of-type {\n",
       "        vertical-align: middle;\n",
       "    }\n",
       "\n",
       "    .dataframe tbody tr th {\n",
       "        vertical-align: top;\n",
       "    }\n",
       "\n",
       "    .dataframe thead th {\n",
       "        text-align: right;\n",
       "    }\n",
       "</style>\n",
       "<table border=\"1\" class=\"dataframe\">\n",
       "  <thead>\n",
       "    <tr style=\"text-align: right;\">\n",
       "      <th></th>\n",
       "      <th>Year</th>\n",
       "      <th>Region</th>\n",
       "      <th>Indicator</th>\n",
       "      <th>Value</th>\n",
       "      <th>x</th>\n",
       "      <th>y</th>\n",
       "    </tr>\n",
       "  </thead>\n",
       "  <tbody>\n",
       "    <tr>\n",
       "      <th>0</th>\n",
       "      <td>2016</td>\n",
       "      <td>Makkah</td>\n",
       "      <td>No. of Casualties - Injured</td>\n",
       "      <td>12383</td>\n",
       "      <td>21.628962766</td>\n",
       "      <td>41.2636898334</td>\n",
       "    </tr>\n",
       "    <tr>\n",
       "      <th>1</th>\n",
       "      <td>2016</td>\n",
       "      <td>Eastern Region</td>\n",
       "      <td>No. of Casualties - Dead</td>\n",
       "      <td>1113</td>\n",
       "      <td>23.2883307307</td>\n",
       "      <td>50.1478302439</td>\n",
       "    </tr>\n",
       "    <tr>\n",
       "      <th>2</th>\n",
       "      <td>2016</td>\n",
       "      <td>Tabouk</td>\n",
       "      <td>No. of Casualties - Dead</td>\n",
       "      <td>434</td>\n",
       "      <td>27.90165499</td>\n",
       "      <td>37.2598581394</td>\n",
       "    </tr>\n",
       "    <tr>\n",
       "      <th>3</th>\n",
       "      <td>2016</td>\n",
       "      <td>Hail</td>\n",
       "      <td>No. of Casualties - Dead</td>\n",
       "      <td>299</td>\n",
       "      <td>27.400845724</td>\n",
       "      <td>41.4406960508</td>\n",
       "    </tr>\n",
       "    <tr>\n",
       "      <th>4</th>\n",
       "      <td>2016</td>\n",
       "      <td>Hail</td>\n",
       "      <td>No. of Accidents</td>\n",
       "      <td>10199</td>\n",
       "      <td>27.400845724</td>\n",
       "      <td>41.4406960508</td>\n",
       "    </tr>\n",
       "  </tbody>\n",
       "</table>\n",
       "</div>"
      ],
      "text/plain": [
       "   Year          Region                    Indicator  Value              x  \\\n",
       "0  2016          Makkah  No. of Casualties - Injured  12383   21.628962766   \n",
       "1  2016  Eastern Region     No. of Casualties - Dead   1113  23.2883307307   \n",
       "2  2016          Tabouk     No. of Casualties - Dead    434    27.90165499   \n",
       "3  2016            Hail     No. of Casualties - Dead    299   27.400845724   \n",
       "4  2016            Hail             No. of Accidents  10199   27.400845724   \n",
       "\n",
       "                y  \n",
       "0   41.2636898334  \n",
       "1   50.1478302439  \n",
       "2   37.2598581394  \n",
       "3   41.4406960508  \n",
       "4   41.4406960508  "
      ]
     },
     "execution_count": 1000,
     "metadata": {},
     "output_type": "execute_result"
    }
   ],
   "source": [
    "#code \n",
    "traffic_accidents4[['x','y']] = traffic_accidents4.geo_point_2d.str.split(',', expand=True)\n",
    "traffic_accidents4.drop('geo_point_2d', axis=1, inplace=True)\n",
    "traffic_accidents4.head()"
   ]
  },
  {
   "cell_type": "code",
   "execution_count": 1001,
   "metadata": {},
   "outputs": [
    {
     "data": {
      "text/html": [
       "<div>\n",
       "<style scoped>\n",
       "    .dataframe tbody tr th:only-of-type {\n",
       "        vertical-align: middle;\n",
       "    }\n",
       "\n",
       "    .dataframe tbody tr th {\n",
       "        vertical-align: top;\n",
       "    }\n",
       "\n",
       "    .dataframe thead th {\n",
       "        text-align: right;\n",
       "    }\n",
       "</style>\n",
       "<table border=\"1\" class=\"dataframe\">\n",
       "  <thead>\n",
       "    <tr style=\"text-align: right;\">\n",
       "      <th></th>\n",
       "      <th>Year</th>\n",
       "      <th>Administritive Area</th>\n",
       "      <th>Driving Liceses</th>\n",
       "      <th>x</th>\n",
       "      <th>y</th>\n",
       "    </tr>\n",
       "  </thead>\n",
       "  <tbody>\n",
       "    <tr>\n",
       "      <th>0</th>\n",
       "      <td>2012</td>\n",
       "      <td>Makkah</td>\n",
       "      <td>143954</td>\n",
       "      <td>21.628962766</td>\n",
       "      <td>41.2636898334</td>\n",
       "    </tr>\n",
       "    <tr>\n",
       "      <th>1</th>\n",
       "      <td>1994</td>\n",
       "      <td>Makkah</td>\n",
       "      <td>75349</td>\n",
       "      <td>21.628962766</td>\n",
       "      <td>41.2636898334</td>\n",
       "    </tr>\n",
       "    <tr>\n",
       "      <th>2</th>\n",
       "      <td>1998</td>\n",
       "      <td>Makkah</td>\n",
       "      <td>86082</td>\n",
       "      <td>21.628962766</td>\n",
       "      <td>41.2636898334</td>\n",
       "    </tr>\n",
       "    <tr>\n",
       "      <th>3</th>\n",
       "      <td>2004</td>\n",
       "      <td>Makkah</td>\n",
       "      <td>86636</td>\n",
       "      <td>21.628962766</td>\n",
       "      <td>41.2636898334</td>\n",
       "    </tr>\n",
       "    <tr>\n",
       "      <th>4</th>\n",
       "      <td>2005</td>\n",
       "      <td>Makkah</td>\n",
       "      <td>65099</td>\n",
       "      <td>21.628962766</td>\n",
       "      <td>41.2636898334</td>\n",
       "    </tr>\n",
       "  </tbody>\n",
       "</table>\n",
       "</div>"
      ],
      "text/plain": [
       "   Year Administritive Area Driving Liceses             x               y\n",
       "0  2012              Makkah          143954  21.628962766   41.2636898334\n",
       "1  1994              Makkah           75349  21.628962766   41.2636898334\n",
       "2  1998              Makkah           86082  21.628962766   41.2636898334\n",
       "3  2004              Makkah           86636  21.628962766   41.2636898334\n",
       "4  2005              Makkah           65099  21.628962766   41.2636898334"
      ]
     },
     "execution_count": 1001,
     "metadata": {},
     "output_type": "execute_result"
    }
   ],
   "source": [
    "driving_licenses[['x','y']] = driving_licenses.geo_point_2d.str.split(',', expand=True)\n",
    "driving_licenses.drop('geo_point_2d', axis=1, inplace=True)\n",
    "driving_licenses.head()"
   ]
  },
  {
   "cell_type": "markdown",
   "metadata": {},
   "source": [
    "- Fix any individual values preventing other columns from being the appropriate type."
   ]
  },
  {
   "cell_type": "code",
   "execution_count": 1002,
   "metadata": {},
   "outputs": [],
   "source": [
    "#code\n",
    "traffic_accidents4['x']=pd.to_numeric(traffic_accidents4.x)\n",
    "traffic_accidents4['y']=pd.to_numeric(traffic_accidents4.y)"
   ]
  },
  {
   "cell_type": "code",
   "execution_count": 1003,
   "metadata": {},
   "outputs": [],
   "source": [
    "#driving_licenses['x']=pd.to_numeric(driving_licenses.x)\n",
    "driving_licenses['y']=pd.to_numeric(driving_licenses.y)"
   ]
  },
  {
   "cell_type": "code",
   "execution_count": 1004,
   "metadata": {},
   "outputs": [],
   "source": [
    "# rename some values in region column to be consistent with administrative area columns of driving license data\n",
    "traffic_accidents4[\"Region\"] = traffic_accidents4[\"Region\"].str.replace(\"Qassim\",\"Al-Qaseem\")\n",
    "traffic_accidents4[\"Region\"] = traffic_accidents4[\"Region\"].str.replace(\"Eastern Region\",\"Eastern\")\n",
    "traffic_accidents4[\"Region\"] = traffic_accidents4[\"Region\"].str.replace(\"Asir\",\"Assir\")\n",
    "traffic_accidents4[\"Region\"] = traffic_accidents4[\"Region\"].str.replace(\"Al-Baaha\",\"Al-Baha\")"
   ]
  },
  {
   "cell_type": "markdown",
   "metadata": {},
   "source": [
    "- Finish your data modifications by making sure the columns are now typed appropriately."
   ]
  },
  {
   "cell_type": "code",
   "execution_count": 1005,
   "metadata": {
    "scrolled": true
   },
   "outputs": [],
   "source": [
    "#code\n",
    "traffic_accidents4['Year']= traffic_accidents4['Year'].astype(int)\n",
    "traffic_accidents4['Value']= traffic_accidents4['Value'].astype(int)"
   ]
  },
  {
   "cell_type": "code",
   "execution_count": 1006,
   "metadata": {},
   "outputs": [],
   "source": [
    "#Code:\n",
    "driving_licenses['Year']= driving_licenses['Year'].astype(int)\n",
    "driving_licenses['Driving Liceses']= driving_licenses['Driving Liceses'].astype(int)"
   ]
  },
  {
   "cell_type": "markdown",
   "metadata": {},
   "source": [
    "- Display the data types again to confirm they are correct."
   ]
  },
  {
   "cell_type": "code",
   "execution_count": 1007,
   "metadata": {
    "scrolled": true
   },
   "outputs": [
    {
     "data": {
      "text/plain": [
       "Year           int64\n",
       "Region        object\n",
       "Indicator     object\n",
       "Value          int64\n",
       "x            float64\n",
       "y            float64\n",
       "dtype: object"
      ]
     },
     "execution_count": 1007,
     "metadata": {},
     "output_type": "execute_result"
    }
   ],
   "source": [
    "traffic_accidents4.dtypes"
   ]
  },
  {
   "cell_type": "code",
   "execution_count": 1008,
   "metadata": {},
   "outputs": [
    {
     "data": {
      "text/plain": [
       "Year                     int64\n",
       "Administritive Area     object\n",
       "Driving Liceses          int64\n",
       "x                       object\n",
       "y                      float64\n",
       "dtype: object"
      ]
     },
     "execution_count": 1008,
     "metadata": {},
     "output_type": "execute_result"
    }
   ],
   "source": [
    "driving_licenses.dtypes"
   ]
  },
  {
   "cell_type": "markdown",
   "metadata": {},
   "source": [
    "#### 7. Rename columns\n",
    "Change the names of the columns to more expressive names so that you can tell the difference the Driving Licenses  columns and the & Traffic Accidents columns. Your solution should map all column names being changed at once (no repeated singular name-changes). **We will be combining these two datasets, and so you should name columns in an appropriate way**.\n",
    "\n",
    "**Guidelines**:\n",
    "- Column names should be all lowercase (you will thank yourself when you start pushing data to SQL later in the course)\n",
    "- Column names should not contain spaces (underscores will suffice--this allows for using the `df.column_name` method to access columns in addition to `df['column_name']`.\n",
    "- Column names should be unique and informative (the only feature that we actually share between dataframes is the state).\n",
    "- Please also fix any typos you see in the column names."
   ]
  },
  {
   "cell_type": "code",
   "execution_count": 1009,
   "metadata": {
    "scrolled": true
   },
   "outputs": [],
   "source": [
    "#Rename the columns\n",
    "traffic_accidents4.rename(\n",
    "    columns={\n",
    "        'Year': 'year',\n",
    "        'Region': 'region',\n",
    "        'Indicator':'casualties_types',\n",
    "        'Value':'no_accidents',\n",
    "        'x':'x_area',\n",
    "        'y':'y_area'\n",
    "    },\n",
    "    inplace=True\n",
    ")"
   ]
  },
  {
   "cell_type": "code",
   "execution_count": 1010,
   "metadata": {},
   "outputs": [
    {
     "data": {
      "text/html": [
       "<div>\n",
       "<style scoped>\n",
       "    .dataframe tbody tr th:only-of-type {\n",
       "        vertical-align: middle;\n",
       "    }\n",
       "\n",
       "    .dataframe tbody tr th {\n",
       "        vertical-align: top;\n",
       "    }\n",
       "\n",
       "    .dataframe thead th {\n",
       "        text-align: right;\n",
       "    }\n",
       "</style>\n",
       "<table border=\"1\" class=\"dataframe\">\n",
       "  <thead>\n",
       "    <tr style=\"text-align: right;\">\n",
       "      <th></th>\n",
       "      <th>year</th>\n",
       "      <th>region</th>\n",
       "      <th>casualties_types</th>\n",
       "      <th>no_accidents</th>\n",
       "      <th>x_area</th>\n",
       "      <th>y_area</th>\n",
       "    </tr>\n",
       "  </thead>\n",
       "  <tbody>\n",
       "    <tr>\n",
       "      <th>0</th>\n",
       "      <td>2016</td>\n",
       "      <td>Makkah</td>\n",
       "      <td>No. of Casualties - Injured</td>\n",
       "      <td>12383</td>\n",
       "      <td>21.628963</td>\n",
       "      <td>41.263690</td>\n",
       "    </tr>\n",
       "    <tr>\n",
       "      <th>1</th>\n",
       "      <td>2016</td>\n",
       "      <td>Eastern</td>\n",
       "      <td>No. of Casualties - Dead</td>\n",
       "      <td>1113</td>\n",
       "      <td>23.288331</td>\n",
       "      <td>50.147830</td>\n",
       "    </tr>\n",
       "    <tr>\n",
       "      <th>2</th>\n",
       "      <td>2016</td>\n",
       "      <td>Tabouk</td>\n",
       "      <td>No. of Casualties - Dead</td>\n",
       "      <td>434</td>\n",
       "      <td>27.901655</td>\n",
       "      <td>37.259858</td>\n",
       "    </tr>\n",
       "    <tr>\n",
       "      <th>3</th>\n",
       "      <td>2016</td>\n",
       "      <td>Hail</td>\n",
       "      <td>No. of Casualties - Dead</td>\n",
       "      <td>299</td>\n",
       "      <td>27.400846</td>\n",
       "      <td>41.440696</td>\n",
       "    </tr>\n",
       "    <tr>\n",
       "      <th>4</th>\n",
       "      <td>2016</td>\n",
       "      <td>Hail</td>\n",
       "      <td>No. of Accidents</td>\n",
       "      <td>10199</td>\n",
       "      <td>27.400846</td>\n",
       "      <td>41.440696</td>\n",
       "    </tr>\n",
       "  </tbody>\n",
       "</table>\n",
       "</div>"
      ],
      "text/plain": [
       "   year   region             casualties_types  no_accidents     x_area  \\\n",
       "0  2016   Makkah  No. of Casualties - Injured         12383  21.628963   \n",
       "1  2016  Eastern     No. of Casualties - Dead          1113  23.288331   \n",
       "2  2016   Tabouk     No. of Casualties - Dead           434  27.901655   \n",
       "3  2016     Hail     No. of Casualties - Dead           299  27.400846   \n",
       "4  2016     Hail             No. of Accidents         10199  27.400846   \n",
       "\n",
       "      y_area  \n",
       "0  41.263690  \n",
       "1  50.147830  \n",
       "2  37.259858  \n",
       "3  41.440696  \n",
       "4  41.440696  "
      ]
     },
     "execution_count": 1010,
     "metadata": {},
     "output_type": "execute_result"
    }
   ],
   "source": [
    "traffic_accidents4.head()"
   ]
  },
  {
   "cell_type": "code",
   "execution_count": 1015,
   "metadata": {},
   "outputs": [],
   "source": [
    "driving_licenses.rename(\n",
    "    columns={\n",
    "        'Year': 'year',\n",
    "        'Administritive Area': 'region',\n",
    "        'Driving Liceses':'driving_licenses',\n",
    "        'Value':'no_accidents',\n",
    "        'x':'x_area',\n",
    "        'y':'y_area'\n",
    "    },\n",
    "    inplace=True\n",
    ")"
   ]
  },
  {
   "cell_type": "code",
   "execution_count": 1011,
   "metadata": {},
   "outputs": [
    {
     "data": {
      "text/html": [
       "<div>\n",
       "<style scoped>\n",
       "    .dataframe tbody tr th:only-of-type {\n",
       "        vertical-align: middle;\n",
       "    }\n",
       "\n",
       "    .dataframe tbody tr th {\n",
       "        vertical-align: top;\n",
       "    }\n",
       "\n",
       "    .dataframe thead th {\n",
       "        text-align: right;\n",
       "    }\n",
       "</style>\n",
       "<table border=\"1\" class=\"dataframe\">\n",
       "  <thead>\n",
       "    <tr style=\"text-align: right;\">\n",
       "      <th></th>\n",
       "      <th>Year</th>\n",
       "      <th>Administritive Area</th>\n",
       "      <th>Driving Liceses</th>\n",
       "      <th>x</th>\n",
       "      <th>y</th>\n",
       "    </tr>\n",
       "  </thead>\n",
       "  <tbody>\n",
       "    <tr>\n",
       "      <th>0</th>\n",
       "      <td>2012</td>\n",
       "      <td>Makkah</td>\n",
       "      <td>143954</td>\n",
       "      <td>21.628962766</td>\n",
       "      <td>41.26369</td>\n",
       "    </tr>\n",
       "    <tr>\n",
       "      <th>1</th>\n",
       "      <td>1994</td>\n",
       "      <td>Makkah</td>\n",
       "      <td>75349</td>\n",
       "      <td>21.628962766</td>\n",
       "      <td>41.26369</td>\n",
       "    </tr>\n",
       "    <tr>\n",
       "      <th>2</th>\n",
       "      <td>1998</td>\n",
       "      <td>Makkah</td>\n",
       "      <td>86082</td>\n",
       "      <td>21.628962766</td>\n",
       "      <td>41.26369</td>\n",
       "    </tr>\n",
       "    <tr>\n",
       "      <th>3</th>\n",
       "      <td>2004</td>\n",
       "      <td>Makkah</td>\n",
       "      <td>86636</td>\n",
       "      <td>21.628962766</td>\n",
       "      <td>41.26369</td>\n",
       "    </tr>\n",
       "    <tr>\n",
       "      <th>4</th>\n",
       "      <td>2005</td>\n",
       "      <td>Makkah</td>\n",
       "      <td>65099</td>\n",
       "      <td>21.628962766</td>\n",
       "      <td>41.26369</td>\n",
       "    </tr>\n",
       "  </tbody>\n",
       "</table>\n",
       "</div>"
      ],
      "text/plain": [
       "   Year Administritive Area  Driving Liceses             x         y\n",
       "0  2012              Makkah           143954  21.628962766  41.26369\n",
       "1  1994              Makkah            75349  21.628962766  41.26369\n",
       "2  1998              Makkah            86082  21.628962766  41.26369\n",
       "3  2004              Makkah            86636  21.628962766  41.26369\n",
       "4  2005              Makkah            65099  21.628962766  41.26369"
      ]
     },
     "execution_count": 1011,
     "metadata": {},
     "output_type": "execute_result"
    }
   ],
   "source": [
    "driving_licenses.head()"
   ]
  },
  {
   "cell_type": "markdown",
   "metadata": {},
   "source": [
    "#### 8. Create a data dictionary\n",
    "\n",
    "Now that we've fixed our data, and given it appropriate names, let's create a [data dictionary](http://library.ucmerced.edu/node/10249). \n",
    "\n",
    "A data dictionary provides a quick overview of features/variables/columns, alongside data types and descriptions. The more descriptive you can be, the more useful this document is.\n",
    "\n",
    "Example of a Fictional Data Dictionary Entry: \n",
    "\n",
    "|Feature|Type|Dataset|Description|\n",
    "|---|---|---|---|\n",
    "|**county_pop**|*integer*|2010 census|The population of the county (units in thousands, where 2.5 represents 2500 people).| \n",
    "|**per_poverty**|*float*|2010 census|The percent of the county over the age of 18 living below the 200% of official US poverty rate (units percent to two decimal places 98.10 means 98.1%)|\n",
    "\n",
    "[Here's a quick link to a short guide for formatting markdown in Jupyter notebooks](https://jupyter-notebook.readthedocs.io/en/stable/examples/Notebook/Working%20With%20Markdown%20Cells.html).\n",
    "\n",
    "Provided is the skeleton for formatting a markdown table, with columns headers that will help you create a data dictionary to quickly summarize your data, as well as some examples. **This would be a great thing to copy and paste into your custom README for this project.**"
   ]
  },
  {
   "cell_type": "markdown",
   "metadata": {},
   "source": [
    "### Traffic Accidents and Casualties \n",
    "|Feature|Type|Dataset|Description|\n",
    "|---|---|---|---|\n",
    "**year**| int| Traffic_Accidents|         The dataset cover 2 years period from 2016 to 2017\n",
    "**region**| object| Traffic_Accidents|    The adinstrative region of saudi arabia which is totaled 13\n",
    "**casualties_types**| object| Traffic_Accidents|  There are 4 categories(No. of Accidents, No. of Casualties - Dead, No. of Casualties - Injured)\n",
    "**no_accidents**| object| Traffic_Accidents| The total number of accidents\n",
    "**x_area**| float| Traffic_Accidents| Geographic location (longitude)\n",
    "**y_area**| float| Traffic_Accidents| Geographic location (Latitude)"
   ]
  },
  {
   "cell_type": "markdown",
   "metadata": {},
   "source": [
    "### Driving Licenses\n",
    "|Feature|Type|Dataset|Description|\n",
    "|---|---|---|---|\n",
    "**year**| int| Driving Licenses|         The dataset cover 2 years period from 1993 to 2017\n",
    "**Administritive Area**| object| Driving Licenses|    The administrative region of saudi arabia which is totaled 13\n",
    "**Driving Liceses**| int| Driving Licenses|  Totoal Number of driving licenses that were issued\n",
    "**x_area**| float| Driving Licenses| Geographic location (longitude)\n",
    "**y_area**| float| Driving Licenses| Geographic location (Latitude)"
   ]
  },
  {
   "cell_type": "markdown",
   "metadata": {},
   "source": [
    "#### 9. Drop unnecessary rows\n",
    "\n",
    "This study concerns accident and license in regions/area. Please do the followings:\n",
    "0. Which rows are not associated with regions?\n",
    "1. Confirm the numbers of all regions add up to total.\n",
    "2. Remove the rows that are not associated with regions"
   ]
  },
  {
   "cell_type": "markdown",
   "metadata": {},
   "source": [
    "- Total is not associated with regions"
   ]
  },
  {
   "cell_type": "markdown",
   "metadata": {},
   "source": [
    "### Confirm the numbers of all regions add up to total."
   ]
  },
  {
   "cell_type": "code",
   "execution_count": 581,
   "metadata": {
    "scrolled": false
   },
   "outputs": [
    {
     "data": {
      "text/html": [
       "<div>\n",
       "<style scoped>\n",
       "    .dataframe tbody tr th:only-of-type {\n",
       "        vertical-align: middle;\n",
       "    }\n",
       "\n",
       "    .dataframe tbody tr th {\n",
       "        vertical-align: top;\n",
       "    }\n",
       "\n",
       "    .dataframe thead th {\n",
       "        text-align: right;\n",
       "    }\n",
       "</style>\n",
       "<table border=\"1\" class=\"dataframe\">\n",
       "  <thead>\n",
       "    <tr style=\"text-align: right;\">\n",
       "      <th></th>\n",
       "      <th></th>\n",
       "      <th>no_accidents</th>\n",
       "      <th>x_area</th>\n",
       "      <th>y_area</th>\n",
       "    </tr>\n",
       "    <tr>\n",
       "      <th>year</th>\n",
       "      <th>casualties_types</th>\n",
       "      <th></th>\n",
       "      <th></th>\n",
       "      <th></th>\n",
       "    </tr>\n",
       "  </thead>\n",
       "  <tbody>\n",
       "    <tr>\n",
       "      <th rowspan=\"3\" valign=\"top\">2016</th>\n",
       "      <th>No. of Accidents</th>\n",
       "      <td>533380</td>\n",
       "      <td>0.0</td>\n",
       "      <td>0.0</td>\n",
       "    </tr>\n",
       "    <tr>\n",
       "      <th>No. of Casualties - Dead</th>\n",
       "      <td>9031</td>\n",
       "      <td>0.0</td>\n",
       "      <td>0.0</td>\n",
       "    </tr>\n",
       "    <tr>\n",
       "      <th>No. of Casualties - Injured</th>\n",
       "      <td>38120</td>\n",
       "      <td>0.0</td>\n",
       "      <td>0.0</td>\n",
       "    </tr>\n",
       "    <tr>\n",
       "      <th rowspan=\"3\" valign=\"top\">2017</th>\n",
       "      <th>No. of Accidents</th>\n",
       "      <td>460488</td>\n",
       "      <td>0.0</td>\n",
       "      <td>0.0</td>\n",
       "    </tr>\n",
       "    <tr>\n",
       "      <th>No. of Casualties - Dead</th>\n",
       "      <td>7489</td>\n",
       "      <td>0.0</td>\n",
       "      <td>0.0</td>\n",
       "    </tr>\n",
       "    <tr>\n",
       "      <th>No. of Casualties - Injured</th>\n",
       "      <td>33199</td>\n",
       "      <td>0.0</td>\n",
       "      <td>0.0</td>\n",
       "    </tr>\n",
       "  </tbody>\n",
       "</table>\n",
       "</div>"
      ],
      "text/plain": [
       "                                  no_accidents  x_area  y_area\n",
       "year casualties_types                                         \n",
       "2016 No. of Accidents                   533380     0.0     0.0\n",
       "     No. of Casualties - Dead             9031     0.0     0.0\n",
       "     No. of Casualties - Injured         38120     0.0     0.0\n",
       "2017 No. of Accidents                   460488     0.0     0.0\n",
       "     No. of Casualties - Dead             7489     0.0     0.0\n",
       "     No. of Casualties - Injured         33199     0.0     0.0"
      ]
     },
     "execution_count": 581,
     "metadata": {},
     "output_type": "execute_result"
    }
   ],
   "source": [
    "traffic_accidents4[traffic_accidents4['region'] == 'Total'].groupby(by=['year','casualties_types']).sum()"
   ]
  },
  {
   "cell_type": "code",
   "execution_count": 582,
   "metadata": {
    "scrolled": true
   },
   "outputs": [
    {
     "data": {
      "text/html": [
       "<div>\n",
       "<style scoped>\n",
       "    .dataframe tbody tr th:only-of-type {\n",
       "        vertical-align: middle;\n",
       "    }\n",
       "\n",
       "    .dataframe tbody tr th {\n",
       "        vertical-align: top;\n",
       "    }\n",
       "\n",
       "    .dataframe thead th {\n",
       "        text-align: right;\n",
       "    }\n",
       "</style>\n",
       "<table border=\"1\" class=\"dataframe\">\n",
       "  <thead>\n",
       "    <tr style=\"text-align: right;\">\n",
       "      <th></th>\n",
       "      <th></th>\n",
       "      <th>no_accidents</th>\n",
       "      <th>x_area</th>\n",
       "      <th>y_area</th>\n",
       "    </tr>\n",
       "    <tr>\n",
       "      <th>year</th>\n",
       "      <th>casualties_types</th>\n",
       "      <th></th>\n",
       "      <th></th>\n",
       "      <th></th>\n",
       "    </tr>\n",
       "  </thead>\n",
       "  <tbody>\n",
       "    <tr>\n",
       "      <th rowspan=\"3\" valign=\"top\">2016</th>\n",
       "      <th>No. of Accidents</th>\n",
       "      <td>533380</td>\n",
       "      <td>309.535811</td>\n",
       "      <td>309.535811</td>\n",
       "    </tr>\n",
       "    <tr>\n",
       "      <th>No. of Casualties - Dead</th>\n",
       "      <td>9031</td>\n",
       "      <td>309.535811</td>\n",
       "      <td>309.535811</td>\n",
       "    </tr>\n",
       "    <tr>\n",
       "      <th>No. of Casualties - Injured</th>\n",
       "      <td>38120</td>\n",
       "      <td>309.535811</td>\n",
       "      <td>309.535811</td>\n",
       "    </tr>\n",
       "    <tr>\n",
       "      <th rowspan=\"3\" valign=\"top\">2017</th>\n",
       "      <th>No. of Accidents</th>\n",
       "      <td>460488</td>\n",
       "      <td>309.535811</td>\n",
       "      <td>309.535811</td>\n",
       "    </tr>\n",
       "    <tr>\n",
       "      <th>No. of Casualties - Dead</th>\n",
       "      <td>7489</td>\n",
       "      <td>309.535811</td>\n",
       "      <td>309.535811</td>\n",
       "    </tr>\n",
       "    <tr>\n",
       "      <th>No. of Casualties - Injured</th>\n",
       "      <td>33199</td>\n",
       "      <td>309.535811</td>\n",
       "      <td>309.535811</td>\n",
       "    </tr>\n",
       "  </tbody>\n",
       "</table>\n",
       "</div>"
      ],
      "text/plain": [
       "                                  no_accidents      x_area      y_area\n",
       "year casualties_types                                                 \n",
       "2016 No. of Accidents                   533380  309.535811  309.535811\n",
       "     No. of Casualties - Dead             9031  309.535811  309.535811\n",
       "     No. of Casualties - Injured         38120  309.535811  309.535811\n",
       "2017 No. of Accidents                   460488  309.535811  309.535811\n",
       "     No. of Casualties - Dead             7489  309.535811  309.535811\n",
       "     No. of Casualties - Injured         33199  309.535811  309.535811"
      ]
     },
     "execution_count": 582,
     "metadata": {},
     "output_type": "execute_result"
    }
   ],
   "source": [
    "traffic_accidents4[traffic_accidents4['region'] != 'Total'].groupby(by=['year','casualties_types']).sum()"
   ]
  },
  {
   "cell_type": "code",
   "execution_count": 1016,
   "metadata": {},
   "outputs": [
    {
     "data": {
      "text/html": [
       "<div>\n",
       "<style scoped>\n",
       "    .dataframe tbody tr th:only-of-type {\n",
       "        vertical-align: middle;\n",
       "    }\n",
       "\n",
       "    .dataframe tbody tr th {\n",
       "        vertical-align: top;\n",
       "    }\n",
       "\n",
       "    .dataframe thead th {\n",
       "        text-align: right;\n",
       "    }\n",
       "</style>\n",
       "<table border=\"1\" class=\"dataframe\">\n",
       "  <thead>\n",
       "    <tr style=\"text-align: right;\">\n",
       "      <th></th>\n",
       "      <th>driving_licenses</th>\n",
       "      <th>y_area</th>\n",
       "    </tr>\n",
       "    <tr>\n",
       "      <th>year</th>\n",
       "      <th></th>\n",
       "      <th></th>\n",
       "    </tr>\n",
       "  </thead>\n",
       "  <tbody>\n",
       "    <tr>\n",
       "      <th>2016</th>\n",
       "      <td>697017</td>\n",
       "      <td>0.0</td>\n",
       "    </tr>\n",
       "    <tr>\n",
       "      <th>2017</th>\n",
       "      <td>928165</td>\n",
       "      <td>0.0</td>\n",
       "    </tr>\n",
       "  </tbody>\n",
       "</table>\n",
       "</div>"
      ],
      "text/plain": [
       "      driving_licenses  y_area\n",
       "year                          \n",
       "2016            697017     0.0\n",
       "2017            928165     0.0"
      ]
     },
     "execution_count": 1016,
     "metadata": {},
     "output_type": "execute_result"
    }
   ],
   "source": [
    "driving_licenses[driving_licenses['region'] == 'Total'].groupby(by='year').sum().tail(2)"
   ]
  },
  {
   "cell_type": "code",
   "execution_count": 1018,
   "metadata": {},
   "outputs": [
    {
     "data": {
      "text/html": [
       "<div>\n",
       "<style scoped>\n",
       "    .dataframe tbody tr th:only-of-type {\n",
       "        vertical-align: middle;\n",
       "    }\n",
       "\n",
       "    .dataframe tbody tr th {\n",
       "        vertical-align: top;\n",
       "    }\n",
       "\n",
       "    .dataframe thead th {\n",
       "        text-align: right;\n",
       "    }\n",
       "</style>\n",
       "<table border=\"1\" class=\"dataframe\">\n",
       "  <thead>\n",
       "    <tr style=\"text-align: right;\">\n",
       "      <th></th>\n",
       "      <th>driving_licenses</th>\n",
       "      <th>y_area</th>\n",
       "    </tr>\n",
       "    <tr>\n",
       "      <th>year</th>\n",
       "      <th></th>\n",
       "      <th></th>\n",
       "    </tr>\n",
       "  </thead>\n",
       "  <tbody>\n",
       "    <tr>\n",
       "      <th>2016</th>\n",
       "      <td>697017</td>\n",
       "      <td>553.836254</td>\n",
       "    </tr>\n",
       "    <tr>\n",
       "      <th>2017</th>\n",
       "      <td>928165</td>\n",
       "      <td>553.836254</td>\n",
       "    </tr>\n",
       "  </tbody>\n",
       "</table>\n",
       "</div>"
      ],
      "text/plain": [
       "      driving_licenses      y_area\n",
       "year                              \n",
       "2016            697017  553.836254\n",
       "2017            928165  553.836254"
      ]
     },
     "execution_count": 1018,
     "metadata": {},
     "output_type": "execute_result"
    }
   ],
   "source": [
    "driving_licenses[driving_licenses['region'] != 'Total'].groupby(by='year').sum().sort_values('year').tail(2)"
   ]
  },
  {
   "cell_type": "markdown",
   "metadata": {},
   "source": [
    "#### 10a. Data formats\n",
    "Is the License data in long or wide format? How about the Accident data? And why?"
   ]
  },
  {
   "cell_type": "markdown",
   "metadata": {},
   "source": [
    "**License data is in a long fromat because every row represents an observation belonging to a particular category while the data format of accident data is Wide because the data has a column for each variable.\n",
    "long format is much more preferable as you will have much less metadata overhead (information about column names, dtypes, etc.).**"
   ]
  },
  {
   "cell_type": "markdown",
   "metadata": {},
   "source": [
    "#### 10b. Changing formats\n",
    "Which format would work best for both dataframes? Transform the datasets to the same format before merging in the next task."
   ]
  },
  {
   "cell_type": "code",
   "execution_count": 609,
   "metadata": {},
   "outputs": [],
   "source": [
    "piv_accidents=pd.pivot_table(traffic_accidents4,values='no_accidents', index=['year','region'], columns='casualties_types')"
   ]
  },
  {
   "cell_type": "code",
   "execution_count": 1021,
   "metadata": {},
   "outputs": [
    {
     "data": {
      "text/html": [
       "<div>\n",
       "<style scoped>\n",
       "    .dataframe tbody tr th:only-of-type {\n",
       "        vertical-align: middle;\n",
       "    }\n",
       "\n",
       "    .dataframe tbody tr th {\n",
       "        vertical-align: top;\n",
       "    }\n",
       "\n",
       "    .dataframe thead th {\n",
       "        text-align: right;\n",
       "    }\n",
       "</style>\n",
       "<table border=\"1\" class=\"dataframe\">\n",
       "  <thead>\n",
       "    <tr style=\"text-align: right;\">\n",
       "      <th></th>\n",
       "      <th>casualties_types</th>\n",
       "      <th>No. of Accidents</th>\n",
       "      <th>No. of Casualties - Dead</th>\n",
       "      <th>No. of Casualties - Injured</th>\n",
       "    </tr>\n",
       "    <tr>\n",
       "      <th>year</th>\n",
       "      <th>region</th>\n",
       "      <th></th>\n",
       "      <th></th>\n",
       "      <th></th>\n",
       "    </tr>\n",
       "  </thead>\n",
       "  <tbody>\n",
       "    <tr>\n",
       "      <th rowspan=\"5\" valign=\"top\">2016</th>\n",
       "      <th>Al-Baha</th>\n",
       "      <td>3618</td>\n",
       "      <td>185</td>\n",
       "      <td>1227</td>\n",
       "    </tr>\n",
       "    <tr>\n",
       "      <th>Al-Jouf</th>\n",
       "      <td>10212</td>\n",
       "      <td>245</td>\n",
       "      <td>920</td>\n",
       "    </tr>\n",
       "    <tr>\n",
       "      <th>Al-Qaseem</th>\n",
       "      <td>25664</td>\n",
       "      <td>397</td>\n",
       "      <td>1513</td>\n",
       "    </tr>\n",
       "    <tr>\n",
       "      <th>Assir</th>\n",
       "      <td>32684</td>\n",
       "      <td>983</td>\n",
       "      <td>2541</td>\n",
       "    </tr>\n",
       "    <tr>\n",
       "      <th>Eastern</th>\n",
       "      <td>101619</td>\n",
       "      <td>1113</td>\n",
       "      <td>4893</td>\n",
       "    </tr>\n",
       "  </tbody>\n",
       "</table>\n",
       "</div>"
      ],
      "text/plain": [
       "casualties_types  No. of Accidents  No. of Casualties - Dead  \\\n",
       "year region                                                    \n",
       "2016 Al-Baha                  3618                       185   \n",
       "     Al-Jouf                 10212                       245   \n",
       "     Al-Qaseem               25664                       397   \n",
       "     Assir                   32684                       983   \n",
       "     Eastern                101619                      1113   \n",
       "\n",
       "casualties_types  No. of Casualties - Injured  \n",
       "year region                                    \n",
       "2016 Al-Baha                             1227  \n",
       "     Al-Jouf                              920  \n",
       "     Al-Qaseem                           1513  \n",
       "     Assir                               2541  \n",
       "     Eastern                             4893  "
      ]
     },
     "execution_count": 1021,
     "metadata": {},
     "output_type": "execute_result"
    }
   ],
   "source": [
    "piv_accidents.head()"
   ]
  },
  {
   "cell_type": "markdown",
   "metadata": {},
   "source": [
    "#### 11. Merge dataframes\n",
    "\n",
    "Join the Driving Licenses & Traffic Accidents dataframes using the **region** and **year** in each dataframe as the key. Assign this to a new variable. Which join should you use to preserve the most data?"
   ]
  },
  {
   "cell_type": "code",
   "execution_count": 612,
   "metadata": {},
   "outputs": [],
   "source": [
    "#code \n",
    "combined_datasets=pd.merge(piv_accidents, driving_licenses, on = ['region', 'year'], how='inner')\n",
    "# to preserve the most data\n",
    "pd.merge(piv_accidents, driving_licenses, on = ['region', 'year'], how='outer')\n",
    "# there are alot of nan because outer included all the values between the dataset while inner include \n",
    "#only the intersection values"
   ]
  },
  {
   "cell_type": "code",
   "execution_count": 614,
   "metadata": {},
   "outputs": [],
   "source": [
    "combined_datasets= combined_datasets[combined_datasets.region != 'Total']"
   ]
  },
  {
   "cell_type": "code",
   "execution_count": 1024,
   "metadata": {},
   "outputs": [
    {
     "data": {
      "text/html": [
       "<div>\n",
       "<style scoped>\n",
       "    .dataframe tbody tr th:only-of-type {\n",
       "        vertical-align: middle;\n",
       "    }\n",
       "\n",
       "    .dataframe tbody tr th {\n",
       "        vertical-align: top;\n",
       "    }\n",
       "\n",
       "    .dataframe thead th {\n",
       "        text-align: right;\n",
       "    }\n",
       "</style>\n",
       "<table border=\"1\" class=\"dataframe\">\n",
       "  <thead>\n",
       "    <tr style=\"text-align: right;\">\n",
       "      <th></th>\n",
       "      <th>region</th>\n",
       "      <th>year</th>\n",
       "      <th>No. of Accidents</th>\n",
       "      <th>No. of Casualties - Dead</th>\n",
       "      <th>No. of Casualties - Injured</th>\n",
       "      <th>driving_licenses</th>\n",
       "      <th>x_area</th>\n",
       "      <th>y_area</th>\n",
       "    </tr>\n",
       "  </thead>\n",
       "  <tbody>\n",
       "    <tr>\n",
       "      <th>0</th>\n",
       "      <td>Al-Baha</td>\n",
       "      <td>2016</td>\n",
       "      <td>3618</td>\n",
       "      <td>185</td>\n",
       "      <td>1227</td>\n",
       "      <td>4614</td>\n",
       "      <td>20.148406</td>\n",
       "      <td>20.148406</td>\n",
       "    </tr>\n",
       "    <tr>\n",
       "      <th>1</th>\n",
       "      <td>Al-Jouf</td>\n",
       "      <td>2016</td>\n",
       "      <td>10212</td>\n",
       "      <td>245</td>\n",
       "      <td>920</td>\n",
       "      <td>9371</td>\n",
       "      <td>29.967745</td>\n",
       "      <td>29.967745</td>\n",
       "    </tr>\n",
       "    <tr>\n",
       "      <th>2</th>\n",
       "      <td>Al-Qaseem</td>\n",
       "      <td>2016</td>\n",
       "      <td>25664</td>\n",
       "      <td>397</td>\n",
       "      <td>1513</td>\n",
       "      <td>9180</td>\n",
       "      <td>26.196706</td>\n",
       "      <td>26.196706</td>\n",
       "    </tr>\n",
       "    <tr>\n",
       "      <th>3</th>\n",
       "      <td>Assir</td>\n",
       "      <td>2016</td>\n",
       "      <td>32684</td>\n",
       "      <td>983</td>\n",
       "      <td>2541</td>\n",
       "      <td>41367</td>\n",
       "      <td>19.138785</td>\n",
       "      <td>19.138785</td>\n",
       "    </tr>\n",
       "    <tr>\n",
       "      <th>4</th>\n",
       "      <td>Eastern</td>\n",
       "      <td>2016</td>\n",
       "      <td>101619</td>\n",
       "      <td>1113</td>\n",
       "      <td>4893</td>\n",
       "      <td>142307</td>\n",
       "      <td>23.288331</td>\n",
       "      <td>23.288331</td>\n",
       "    </tr>\n",
       "    <tr>\n",
       "      <th>5</th>\n",
       "      <td>Hail</td>\n",
       "      <td>2016</td>\n",
       "      <td>10199</td>\n",
       "      <td>299</td>\n",
       "      <td>932</td>\n",
       "      <td>54507</td>\n",
       "      <td>27.400846</td>\n",
       "      <td>27.400846</td>\n",
       "    </tr>\n",
       "    <tr>\n",
       "      <th>6</th>\n",
       "      <td>Jazan</td>\n",
       "      <td>2016</td>\n",
       "      <td>25873</td>\n",
       "      <td>514</td>\n",
       "      <td>2259</td>\n",
       "      <td>11504</td>\n",
       "      <td>17.207231</td>\n",
       "      <td>17.207231</td>\n",
       "    </tr>\n",
       "    <tr>\n",
       "      <th>7</th>\n",
       "      <td>Madinah</td>\n",
       "      <td>2016</td>\n",
       "      <td>14475</td>\n",
       "      <td>822</td>\n",
       "      <td>4184</td>\n",
       "      <td>24540</td>\n",
       "      <td>24.927535</td>\n",
       "      <td>24.927535</td>\n",
       "    </tr>\n",
       "    <tr>\n",
       "      <th>8</th>\n",
       "      <td>Makkah</td>\n",
       "      <td>2016</td>\n",
       "      <td>134838</td>\n",
       "      <td>2243</td>\n",
       "      <td>12383</td>\n",
       "      <td>136055</td>\n",
       "      <td>21.628963</td>\n",
       "      <td>21.628963</td>\n",
       "    </tr>\n",
       "    <tr>\n",
       "      <th>9</th>\n",
       "      <td>Najran</td>\n",
       "      <td>2016</td>\n",
       "      <td>3235</td>\n",
       "      <td>173</td>\n",
       "      <td>706</td>\n",
       "      <td>2153</td>\n",
       "      <td>18.451100</td>\n",
       "      <td>18.451100</td>\n",
       "    </tr>\n",
       "    <tr>\n",
       "      <th>10</th>\n",
       "      <td>Northern Boarder</td>\n",
       "      <td>2016</td>\n",
       "      <td>13196</td>\n",
       "      <td>193</td>\n",
       "      <td>631</td>\n",
       "      <td>4958</td>\n",
       "      <td>30.197075</td>\n",
       "      <td>30.197075</td>\n",
       "    </tr>\n",
       "    <tr>\n",
       "      <th>11</th>\n",
       "      <td>Riyadh</td>\n",
       "      <td>2016</td>\n",
       "      <td>141736</td>\n",
       "      <td>1430</td>\n",
       "      <td>4207</td>\n",
       "      <td>242851</td>\n",
       "      <td>23.081434</td>\n",
       "      <td>23.081434</td>\n",
       "    </tr>\n",
       "    <tr>\n",
       "      <th>12</th>\n",
       "      <td>Tabouk</td>\n",
       "      <td>2016</td>\n",
       "      <td>16031</td>\n",
       "      <td>434</td>\n",
       "      <td>1724</td>\n",
       "      <td>13610</td>\n",
       "      <td>27.901655</td>\n",
       "      <td>27.901655</td>\n",
       "    </tr>\n",
       "    <tr>\n",
       "      <th>14</th>\n",
       "      <td>Al-Baha</td>\n",
       "      <td>2017</td>\n",
       "      <td>1414</td>\n",
       "      <td>134</td>\n",
       "      <td>1007</td>\n",
       "      <td>4131</td>\n",
       "      <td>20.148406</td>\n",
       "      <td>20.148406</td>\n",
       "    </tr>\n",
       "    <tr>\n",
       "      <th>15</th>\n",
       "      <td>Al-Jouf</td>\n",
       "      <td>2017</td>\n",
       "      <td>10469</td>\n",
       "      <td>240</td>\n",
       "      <td>862</td>\n",
       "      <td>8091</td>\n",
       "      <td>29.967745</td>\n",
       "      <td>29.967745</td>\n",
       "    </tr>\n",
       "    <tr>\n",
       "      <th>16</th>\n",
       "      <td>Al-Qaseem</td>\n",
       "      <td>2017</td>\n",
       "      <td>22405</td>\n",
       "      <td>319</td>\n",
       "      <td>1446</td>\n",
       "      <td>6318</td>\n",
       "      <td>26.196706</td>\n",
       "      <td>26.196706</td>\n",
       "    </tr>\n",
       "    <tr>\n",
       "      <th>17</th>\n",
       "      <td>Assir</td>\n",
       "      <td>2017</td>\n",
       "      <td>25245</td>\n",
       "      <td>828</td>\n",
       "      <td>2368</td>\n",
       "      <td>39133</td>\n",
       "      <td>19.138785</td>\n",
       "      <td>19.138785</td>\n",
       "    </tr>\n",
       "    <tr>\n",
       "      <th>18</th>\n",
       "      <td>Eastern</td>\n",
       "      <td>2017</td>\n",
       "      <td>81433</td>\n",
       "      <td>963</td>\n",
       "      <td>4073</td>\n",
       "      <td>126816</td>\n",
       "      <td>23.288331</td>\n",
       "      <td>23.288331</td>\n",
       "    </tr>\n",
       "    <tr>\n",
       "      <th>19</th>\n",
       "      <td>Hail</td>\n",
       "      <td>2017</td>\n",
       "      <td>9379</td>\n",
       "      <td>265</td>\n",
       "      <td>773</td>\n",
       "      <td>22035</td>\n",
       "      <td>27.400846</td>\n",
       "      <td>27.400846</td>\n",
       "    </tr>\n",
       "    <tr>\n",
       "      <th>20</th>\n",
       "      <td>Jazan</td>\n",
       "      <td>2017</td>\n",
       "      <td>22161</td>\n",
       "      <td>466</td>\n",
       "      <td>2207</td>\n",
       "      <td>18345</td>\n",
       "      <td>17.207231</td>\n",
       "      <td>17.207231</td>\n",
       "    </tr>\n",
       "    <tr>\n",
       "      <th>21</th>\n",
       "      <td>Madinah</td>\n",
       "      <td>2017</td>\n",
       "      <td>16070</td>\n",
       "      <td>580</td>\n",
       "      <td>2917</td>\n",
       "      <td>36165</td>\n",
       "      <td>24.927535</td>\n",
       "      <td>24.927535</td>\n",
       "    </tr>\n",
       "    <tr>\n",
       "      <th>22</th>\n",
       "      <td>Makkah</td>\n",
       "      <td>2017</td>\n",
       "      <td>145541</td>\n",
       "      <td>1641</td>\n",
       "      <td>10623</td>\n",
       "      <td>142487</td>\n",
       "      <td>21.628963</td>\n",
       "      <td>21.628963</td>\n",
       "    </tr>\n",
       "    <tr>\n",
       "      <th>23</th>\n",
       "      <td>Najran</td>\n",
       "      <td>2017</td>\n",
       "      <td>3193</td>\n",
       "      <td>194</td>\n",
       "      <td>766</td>\n",
       "      <td>13825</td>\n",
       "      <td>18.451100</td>\n",
       "      <td>18.451100</td>\n",
       "    </tr>\n",
       "    <tr>\n",
       "      <th>24</th>\n",
       "      <td>Northern Boarder</td>\n",
       "      <td>2017</td>\n",
       "      <td>11540</td>\n",
       "      <td>112</td>\n",
       "      <td>374</td>\n",
       "      <td>5280</td>\n",
       "      <td>30.197075</td>\n",
       "      <td>30.197075</td>\n",
       "    </tr>\n",
       "    <tr>\n",
       "      <th>25</th>\n",
       "      <td>Riyadh</td>\n",
       "      <td>2017</td>\n",
       "      <td>99925</td>\n",
       "      <td>1399</td>\n",
       "      <td>4540</td>\n",
       "      <td>495307</td>\n",
       "      <td>23.081434</td>\n",
       "      <td>23.081434</td>\n",
       "    </tr>\n",
       "    <tr>\n",
       "      <th>26</th>\n",
       "      <td>Tabouk</td>\n",
       "      <td>2017</td>\n",
       "      <td>11713</td>\n",
       "      <td>348</td>\n",
       "      <td>1243</td>\n",
       "      <td>10232</td>\n",
       "      <td>27.901655</td>\n",
       "      <td>27.901655</td>\n",
       "    </tr>\n",
       "  </tbody>\n",
       "</table>\n",
       "</div>"
      ],
      "text/plain": [
       "              region  year  No. of Accidents  No. of Casualties - Dead  \\\n",
       "0            Al-Baha  2016              3618                       185   \n",
       "1            Al-Jouf  2016             10212                       245   \n",
       "2          Al-Qaseem  2016             25664                       397   \n",
       "3              Assir  2016             32684                       983   \n",
       "4            Eastern  2016            101619                      1113   \n",
       "5               Hail  2016             10199                       299   \n",
       "6              Jazan  2016             25873                       514   \n",
       "7            Madinah  2016             14475                       822   \n",
       "8             Makkah  2016            134838                      2243   \n",
       "9             Najran  2016              3235                       173   \n",
       "10  Northern Boarder  2016             13196                       193   \n",
       "11            Riyadh  2016            141736                      1430   \n",
       "12            Tabouk  2016             16031                       434   \n",
       "14           Al-Baha  2017              1414                       134   \n",
       "15           Al-Jouf  2017             10469                       240   \n",
       "16         Al-Qaseem  2017             22405                       319   \n",
       "17             Assir  2017             25245                       828   \n",
       "18           Eastern  2017             81433                       963   \n",
       "19              Hail  2017              9379                       265   \n",
       "20             Jazan  2017             22161                       466   \n",
       "21           Madinah  2017             16070                       580   \n",
       "22            Makkah  2017            145541                      1641   \n",
       "23            Najran  2017              3193                       194   \n",
       "24  Northern Boarder  2017             11540                       112   \n",
       "25            Riyadh  2017             99925                      1399   \n",
       "26            Tabouk  2017             11713                       348   \n",
       "\n",
       "    No. of Casualties - Injured  driving_licenses     x_area     y_area  \n",
       "0                          1227              4614  20.148406  20.148406  \n",
       "1                           920              9371  29.967745  29.967745  \n",
       "2                          1513              9180  26.196706  26.196706  \n",
       "3                          2541             41367  19.138785  19.138785  \n",
       "4                          4893            142307  23.288331  23.288331  \n",
       "5                           932             54507  27.400846  27.400846  \n",
       "6                          2259             11504  17.207231  17.207231  \n",
       "7                          4184             24540  24.927535  24.927535  \n",
       "8                         12383            136055  21.628963  21.628963  \n",
       "9                           706              2153  18.451100  18.451100  \n",
       "10                          631              4958  30.197075  30.197075  \n",
       "11                         4207            242851  23.081434  23.081434  \n",
       "12                         1724             13610  27.901655  27.901655  \n",
       "14                         1007              4131  20.148406  20.148406  \n",
       "15                          862              8091  29.967745  29.967745  \n",
       "16                         1446              6318  26.196706  26.196706  \n",
       "17                         2368             39133  19.138785  19.138785  \n",
       "18                         4073            126816  23.288331  23.288331  \n",
       "19                          773             22035  27.400846  27.400846  \n",
       "20                         2207             18345  17.207231  17.207231  \n",
       "21                         2917             36165  24.927535  24.927535  \n",
       "22                        10623            142487  21.628963  21.628963  \n",
       "23                          766             13825  18.451100  18.451100  \n",
       "24                          374              5280  30.197075  30.197075  \n",
       "25                         4540            495307  23.081434  23.081434  \n",
       "26                         1243             10232  27.901655  27.901655  "
      ]
     },
     "execution_count": 1024,
     "metadata": {},
     "output_type": "execute_result"
    }
   ],
   "source": [
    "combined_datasets"
   ]
  },
  {
   "cell_type": "markdown",
   "metadata": {},
   "source": [
    "#### 12. Save your cleaned, merged dataframe\n",
    "\n",
    "Use a relative path to save out your data as `combined_datasets.csv`."
   ]
  },
  {
   "cell_type": "code",
   "execution_count": 897,
   "metadata": {},
   "outputs": [],
   "source": [
    "#\n",
    "combined_datasets.to_csv('/Users/someone/Desktop/GA-Course \\project1.csv')"
   ]
  },
  {
   "cell_type": "markdown",
   "metadata": {},
   "source": [
    "## Exploratory Data Analysis\n",
    "\n",
    "\n",
    "### Summary Statistics\n",
    "Transpose the output of pandas `describe` method to create a quick overview of each numeric feature."
   ]
  },
  {
   "cell_type": "code",
   "execution_count": 617,
   "metadata": {},
   "outputs": [
    {
     "data": {
      "text/html": [
       "<div>\n",
       "<style scoped>\n",
       "    .dataframe tbody tr th:only-of-type {\n",
       "        vertical-align: middle;\n",
       "    }\n",
       "\n",
       "    .dataframe tbody tr th {\n",
       "        vertical-align: top;\n",
       "    }\n",
       "\n",
       "    .dataframe thead th {\n",
       "        text-align: right;\n",
       "    }\n",
       "</style>\n",
       "<table border=\"1\" class=\"dataframe\">\n",
       "  <thead>\n",
       "    <tr style=\"text-align: right;\">\n",
       "      <th></th>\n",
       "      <th>count</th>\n",
       "      <th>mean</th>\n",
       "      <th>std</th>\n",
       "      <th>min</th>\n",
       "      <th>25%</th>\n",
       "      <th>50%</th>\n",
       "      <th>75%</th>\n",
       "      <th>max</th>\n",
       "    </tr>\n",
       "  </thead>\n",
       "  <tbody>\n",
       "    <tr>\n",
       "      <th>year</th>\n",
       "      <td>26.0</td>\n",
       "      <td>2016.500000</td>\n",
       "      <td>0.509902</td>\n",
       "      <td>2016.000000</td>\n",
       "      <td>2016.000000</td>\n",
       "      <td>2016.500000</td>\n",
       "      <td>2017.000000</td>\n",
       "      <td>2017.000000</td>\n",
       "    </tr>\n",
       "    <tr>\n",
       "      <th>No. of Accidents</th>\n",
       "      <td>26.0</td>\n",
       "      <td>38225.692308</td>\n",
       "      <td>46493.705035</td>\n",
       "      <td>1414.000000</td>\n",
       "      <td>10276.250000</td>\n",
       "      <td>16050.500000</td>\n",
       "      <td>30981.250000</td>\n",
       "      <td>145541.000000</td>\n",
       "    </tr>\n",
       "    <tr>\n",
       "      <th>No. of Casualties - Dead</th>\n",
       "      <td>26.0</td>\n",
       "      <td>635.384615</td>\n",
       "      <td>549.783381</td>\n",
       "      <td>112.000000</td>\n",
       "      <td>241.250000</td>\n",
       "      <td>415.500000</td>\n",
       "      <td>929.250000</td>\n",
       "      <td>2243.000000</td>\n",
       "    </tr>\n",
       "    <tr>\n",
       "      <th>No. of Casualties - Injured</th>\n",
       "      <td>26.0</td>\n",
       "      <td>2743.038462</td>\n",
       "      <td>2922.641127</td>\n",
       "      <td>374.000000</td>\n",
       "      <td>923.000000</td>\n",
       "      <td>1618.500000</td>\n",
       "      <td>3784.000000</td>\n",
       "      <td>12383.000000</td>\n",
       "    </tr>\n",
       "    <tr>\n",
       "      <th>driving_licenses</th>\n",
       "      <td>26.0</td>\n",
       "      <td>62507.000000</td>\n",
       "      <td>107293.917762</td>\n",
       "      <td>2153.000000</td>\n",
       "      <td>8363.250000</td>\n",
       "      <td>16085.000000</td>\n",
       "      <td>51222.000000</td>\n",
       "      <td>495307.000000</td>\n",
       "    </tr>\n",
       "    <tr>\n",
       "      <th>x_area</th>\n",
       "      <td>26.0</td>\n",
       "      <td>23.810447</td>\n",
       "      <td>4.274533</td>\n",
       "      <td>17.207231</td>\n",
       "      <td>20.148406</td>\n",
       "      <td>23.288331</td>\n",
       "      <td>27.400846</td>\n",
       "      <td>30.197075</td>\n",
       "    </tr>\n",
       "    <tr>\n",
       "      <th>y_area</th>\n",
       "      <td>26.0</td>\n",
       "      <td>23.810447</td>\n",
       "      <td>4.274533</td>\n",
       "      <td>17.207231</td>\n",
       "      <td>20.148406</td>\n",
       "      <td>23.288331</td>\n",
       "      <td>27.400846</td>\n",
       "      <td>30.197075</td>\n",
       "    </tr>\n",
       "  </tbody>\n",
       "</table>\n",
       "</div>"
      ],
      "text/plain": [
       "                             count          mean            std          min  \\\n",
       "year                          26.0   2016.500000       0.509902  2016.000000   \n",
       "No. of Accidents              26.0  38225.692308   46493.705035  1414.000000   \n",
       "No. of Casualties - Dead      26.0    635.384615     549.783381   112.000000   \n",
       "No. of Casualties - Injured   26.0   2743.038462    2922.641127   374.000000   \n",
       "driving_licenses              26.0  62507.000000  107293.917762  2153.000000   \n",
       "x_area                        26.0     23.810447       4.274533    17.207231   \n",
       "y_area                        26.0     23.810447       4.274533    17.207231   \n",
       "\n",
       "                                      25%           50%           75%  \\\n",
       "year                          2016.000000   2016.500000   2017.000000   \n",
       "No. of Accidents             10276.250000  16050.500000  30981.250000   \n",
       "No. of Casualties - Dead       241.250000    415.500000    929.250000   \n",
       "No. of Casualties - Injured    923.000000   1618.500000   3784.000000   \n",
       "driving_licenses              8363.250000  16085.000000  51222.000000   \n",
       "x_area                          20.148406     23.288331     27.400846   \n",
       "y_area                          20.148406     23.288331     27.400846   \n",
       "\n",
       "                                       max  \n",
       "year                           2017.000000  \n",
       "No. of Accidents             145541.000000  \n",
       "No. of Casualties - Dead       2243.000000  \n",
       "No. of Casualties - Injured   12383.000000  \n",
       "driving_licenses             495307.000000  \n",
       "x_area                           30.197075  \n",
       "y_area                           30.197075  "
      ]
     },
     "execution_count": 617,
     "metadata": {},
     "output_type": "execute_result"
    }
   ],
   "source": [
    "#Code:\n",
    "combined_datasets.describe().T"
   ]
  },
  {
   "cell_type": "markdown",
   "metadata": {},
   "source": [
    "#### Manually calculate standard deviation\n",
    "\n",
    "$$\\sigma = \\sqrt{\\frac{1}{n}\\sum_{i=1}^n(x_i - \\mu)^2}$$\n",
    "\n",
    "- Write a function to calculate standard deviation using the formula above"
   ]
  },
  {
   "cell_type": "code",
   "execution_count": 625,
   "metadata": {
    "scrolled": true
   },
   "outputs": [
    {
     "data": {
      "text/plain": [
       "46493.70503521458"
      ]
     },
     "execution_count": 625,
     "metadata": {},
     "output_type": "execute_result"
    }
   ],
   "source": [
    "#code\n",
    "def std_dev(series):\n",
    "    return np.sqrt(sum((series-series.mean())**2)/(len(series)-1))\n",
    "std_dev(combined_datasets['No. of Accidents'])\n",
    "\n"
   ]
  },
  {
   "cell_type": "markdown",
   "metadata": {},
   "source": [
    "- Use a **dictionary comprehension** to apply your standard deviation function to each numeric column in the dataframe.  **No loops**  \n",
    "- Assign the output to variable `sd` as a dictionary where: \n",
    "    - Each column name is now a key \n",
    "    - That standard deviation of the column is the value \n",
    "     \n",
    "*Example Output :* `{'Driving_Licenses_x': 120, 'Traffic_Accidents_x': 120, ...}`"
   ]
  },
  {
   "cell_type": "code",
   "execution_count": 1026,
   "metadata": {},
   "outputs": [],
   "source": [
    "#Code:\n",
    "sd={e:std_dev(traffic_accidents4[e]) for e in list(traffic_accidents4.columns[[0,3,4,5]])}\n",
    "#list(combined_datasets.std() for col in combined_datasets.columns)"
   ]
  },
  {
   "cell_type": "code",
   "execution_count": 1027,
   "metadata": {},
   "outputs": [
    {
     "data": {
      "text/plain": [
       "{'year': 0.5030030300035687,\n",
       " 'no_accidents': 80358.97913433761,\n",
       " 'x_area': nan,\n",
       " 'y_area': nan}"
      ]
     },
     "execution_count": 1027,
     "metadata": {},
     "output_type": "execute_result"
    }
   ],
   "source": [
    "sd"
   ]
  },
  {
   "cell_type": "markdown",
   "metadata": {},
   "source": [
    "Do your manually calculated standard deviations match up with the output from pandas `describe`? What about numpy's `std` method?"
   ]
  },
  {
   "cell_type": "markdown",
   "metadata": {},
   "source": [
    "Answer:"
   ]
  },
  {
   "cell_type": "markdown",
   "metadata": {},
   "source": [
    "#### Investigate trends in the data\n",
    "Using sorting and/or masking (along with the `.head` method to not print our entire dataframe), consider the following questions:\n",
    "\n",
    "- Which regions have the highest and lowest Driving Licenses based on years (1993 - 2017)\n",
    "- Which regions have the highest and lowest mean Traffic Accidents numbers for years (2016 - 2017)\n",
    "- What are the regions that have more Driving Licenses issued in each year than the year average?\n",
    "- What are the regions that have more Traffic Accidents happened in each year than the year average?\n",
    "\n",
    "Based on what you've just observed, have you identified any regions that you're especially interested in? **Make a note of these and state *why* you think they're interesting**.\n",
    "\n",
    "**You should comment on your findings at each step in a markdown cell below your code block**. Make sure you include at least one example of sorting your dataframe by a column, and one example of using boolean filtering (i.e., masking) to select a subset of the dataframe."
   ]
  },
  {
   "cell_type": "markdown",
   "metadata": {},
   "source": [
    "### Which regions have the highest and lowest Driving Licenses based on years (1993 - 2017)\n",
    "- highest Driving Licenses (Northern Boarder, Al-Baha, Tabouk, Najran)"
   ]
  },
  {
   "cell_type": "code",
   "execution_count": 1211,
   "metadata": {},
   "outputs": [
    {
     "name": "stdout",
     "output_type": "stream",
     "text": [
      "                  year\n",
      "driving_licenses  1993    Northern Boarder\n",
      "                  1994    Northern Boarder\n",
      "                  1995    Northern Boarder\n",
      "                  1996    Northern Boarder\n",
      "                  1997    Northern Boarder\n",
      "                  1998    Northern Boarder\n",
      "                  1999    Northern Boarder\n",
      "                  2000    Northern Boarder\n",
      "                  2001    Northern Boarder\n",
      "                  2002    Northern Boarder\n",
      "                  2003    Northern Boarder\n",
      "                  2004    Northern Boarder\n",
      "                  2005    Northern Boarder\n",
      "                  2006    Northern Boarder\n",
      "                  2007             Al-Baha\n",
      "                  2008    Northern Boarder\n",
      "                  2009    Northern Boarder\n",
      "                  2010    Northern Boarder\n",
      "                  2011    Northern Boarder\n",
      "                  2012    Northern Boarder\n",
      "                  2013    Northern Boarder\n",
      "                  2014    Northern Boarder\n",
      "                  2015              Tabouk\n",
      "                  2016              Najran\n",
      "                  2017             Al-Baha\n",
      "dtype: object                   year\n",
      "driving_licenses  1993     Riyadh\n",
      "                  1994     Riyadh\n",
      "                  1995     Riyadh\n",
      "                  1996     Riyadh\n",
      "                  1997     Riyadh\n",
      "                  1998     Riyadh\n",
      "                  1999     Makkah\n",
      "                  2000     Makkah\n",
      "                  2001     Makkah\n",
      "                  2002     Makkah\n",
      "                  2003    Eastern\n",
      "                  2004     Makkah\n",
      "                  2005    Eastern\n",
      "                  2006    Eastern\n",
      "                  2007    Eastern\n",
      "                  2008    Eastern\n",
      "                  2009     Makkah\n",
      "                  2010     Makkah\n",
      "                  2011    Eastern\n",
      "                  2012     Makkah\n",
      "                  2013     Riyadh\n",
      "                  2014     Riyadh\n",
      "                  2015     Makkah\n",
      "                  2016     Riyadh\n",
      "                  2017     Riyadh\n",
      "dtype: object\n"
     ]
    }
   ],
   "source": [
    "driving_licenses_grouped_max=pd.pivot_table(driving_licenses,index=['region'],values=['driving_licenses'],columns='year')\n",
    "driving_licenses_grouped_min=pd.pivot_table(driving_licenses,index=['region'],values=['driving_licenses'],columns='year')\n",
    "print(driving_licenses_grouped.idxmin(),\n",
    "driving_licenses_grouped.idxmax())"
   ]
  },
  {
   "cell_type": "markdown",
   "metadata": {},
   "source": [
    "### Which regions have the highest and lowest mean Traffic Accidents numbers for years (2016 - 2017)\n",
    "- Najran\n",
    "- Al-Baha\n",
    "- Makkah"
   ]
  },
  {
   "cell_type": "code",
   "execution_count": 1212,
   "metadata": {},
   "outputs": [
    {
     "data": {
      "text/plain": [
       "(              year\n",
       " no_accidents  2016     Najran\n",
       "               2017    Al-Baha\n",
       " dtype: object,               year\n",
       " no_accidents  2016    Makkah\n",
       "               2017    Makkah\n",
       " dtype: object)"
      ]
     },
     "execution_count": 1212,
     "metadata": {},
     "output_type": "execute_result"
    }
   ],
   "source": [
    "traffic_accidents4_no_total=traffic_accidents4[traffic_accidents4.region != 'Total']\n",
    "r=pd.pivot_table(traffic_accidents4_no_total,index=['region'],values=['no_accidents'],columns='year')\n",
    "r.idxmin(), r.idxmax()"
   ]
  },
  {
   "cell_type": "markdown",
   "metadata": {},
   "source": [
    "### What are the regions that have more Driving Licenses issued in each year than the year average?\n",
    "\n",
    "- Makkah\n",
    "\n",
    "- Riyadh\n",
    "\n",
    "- Eastern\n",
    "\n",
    "- Al-Qaseem\n"
   ]
  },
  {
   "cell_type": "code",
   "execution_count": 1205,
   "metadata": {
    "scrolled": true
   },
   "outputs": [
    {
     "data": {
      "text/plain": [
       "[     year     region  driving_licenses         x_area     y_area\n",
       " 152  1993     Riyadh            103886  23.0814341634  45.585751\n",
       " 186  1993     Makkah             65977   21.628962766  41.263690\n",
       " 325  1993  Al-Qaseem             73618  26.1967063704  43.343000,\n",
       "      year     region  driving_licenses         x_area     y_area\n",
       " 1    1994     Makkah             75349   21.628962766  41.263690\n",
       " 89   1994  Al-Qaseem             68916  26.1967063704  43.343000\n",
       " 154  1994     Riyadh            110545  23.0814341634  45.585751,\n",
       "      year     region  driving_licenses         x_area     y_area\n",
       " 14   1995  Al-Qaseem             49690  26.1967063704  43.343000\n",
       " 153  1995     Riyadh            101608  23.0814341634  45.585751\n",
       " 187  1995     Makkah             60356   21.628962766  41.263690,\n",
       "      year     region  driving_licenses         x_area     y_area\n",
       " 15   1996  Al-Qaseem             42693  26.1967063704  43.343000\n",
       " 156  1996     Riyadh            110131  23.0814341634  45.585751\n",
       " 299  1996     Makkah             46195   21.628962766  41.263690,\n",
       "      year   region  driving_licenses         x_area     y_area\n",
       " 70   1997   Riyadh             92145  23.0814341634  45.585751\n",
       " 74   1997   Makkah             76623   21.628962766  41.263690\n",
       " 260  1997  Eastern             58814  23.2883307307  50.147830,\n",
       "      year   region  driving_licenses         x_area     y_area\n",
       " 2    1998   Makkah             86082   21.628962766  41.263690\n",
       " 294  1998   Riyadh            114962  23.0814341634  45.585751\n",
       " 334  1998  Eastern             70650  23.2883307307  50.147830,\n",
       "      year   region  driving_licenses         x_area     y_area\n",
       " 66   1999   Riyadh            100291  23.0814341634  45.585751\n",
       " 75   1999   Makkah            103535   21.628962766  41.263690\n",
       " 333  1999  Eastern             64973  23.2883307307  50.147830,\n",
       "      year   region  driving_licenses         x_area     y_area\n",
       " 76   2000   Makkah             87053   21.628962766  41.263690\n",
       " 198  2000  Eastern             65767  23.2883307307  50.147830\n",
       " 243  2000   Riyadh             45345  23.0814341634  45.585751,\n",
       "      year   region  driving_licenses         x_area    y_area\n",
       " 188  2001   Makkah             85593   21.628962766  41.26369\n",
       " 199  2001  Eastern             74119  23.2883307307  50.14783,\n",
       "      year   region  driving_licenses         x_area     y_area\n",
       " 197  2002  Eastern             85035  23.2883307307  50.147830\n",
       " 295  2002   Riyadh             25423  23.0814341634  45.585751\n",
       " 318  2002   Makkah             88593   21.628962766  41.263690,\n",
       "      year   region  driving_licenses         x_area     y_area\n",
       " 242  2003   Riyadh             26076  23.0814341634  45.585751\n",
       " 261  2003  Eastern             82697  23.2883307307  50.147830\n",
       " 319  2003   Makkah             74236   21.628962766  41.263690,\n",
       "      year   region  driving_licenses         x_area     y_area\n",
       " 3    2004   Makkah             86636   21.628962766  41.263690\n",
       " 297  2004   Riyadh             23479  23.0814341634  45.585751\n",
       " 335  2004  Eastern             84984  23.2883307307  50.147830,\n",
       "      year   region  driving_licenses         x_area     y_area\n",
       " 4    2005   Makkah             65099   21.628962766  41.263690\n",
       " 67   2005   Riyadh             23245  23.0814341634  45.585751\n",
       " 336  2005  Eastern             82505  23.2883307307  50.147830,\n",
       "      year   region  driving_licenses         x_area     y_area\n",
       " 77   2006   Makkah             66967   21.628962766  41.263690\n",
       " 200  2006  Eastern             79517  23.2883307307  50.147830\n",
       " 244  2006   Riyadh             36059  23.0814341634  45.585751,\n",
       "      year   region  driving_licenses         x_area     y_area\n",
       " 201  2007  Eastern            106511  23.2883307307  50.147830\n",
       " 296  2007   Riyadh             36261  23.0814341634  45.585751\n",
       " 320  2007   Makkah             91902   21.628962766  41.263690,\n",
       "      year   region  driving_licenses         x_area     y_area\n",
       " 5    2008   Makkah             77013   21.628962766  41.263690\n",
       " 202  2008  Eastern            104626  23.2883307307  50.147830\n",
       " 245  2008   Riyadh             36798  23.0814341634  45.585751,\n",
       "      year   region  driving_licenses         x_area     y_area\n",
       " 78   2009   Makkah            112045   21.628962766  41.263690\n",
       " 262  2009  Eastern            108544  23.2883307307  50.147830\n",
       " 298  2009   Riyadh             38014  23.0814341634  45.585751,\n",
       "      year     region  driving_licenses         x_area     y_area\n",
       " 73   2010     Makkah            113531   21.628962766  41.263690\n",
       " 87   2010  Al-Qaseem             36737  26.1967063704  43.343000\n",
       " 241  2010     Riyadh             31378  23.0814341634  45.585751\n",
       " 257  2010    Eastern            110295  23.2883307307  50.147830,\n",
       "      year   region  driving_licenses         x_area    y_area\n",
       " 95   2011  Eastern            151087  23.2883307307  50.14783\n",
       " 246  2011   Makkah            110647   21.628962766  41.26369,\n",
       "     year   region  driving_licenses         x_area    y_area\n",
       " 0   2012   Makkah            143954   21.628962766  41.26369\n",
       " 96  2012  Eastern            129971  23.2883307307  50.14783,\n",
       "      year   region  driving_licenses         x_area     y_area\n",
       " 65   2013   Riyadh            165994  23.0814341634  45.585751\n",
       " 69   2013   Makkah            131108   21.628962766  41.263690\n",
       " 195  2013  Eastern            123325  23.2883307307  50.147830,\n",
       "      year   region  driving_licenses         x_area     y_area\n",
       " 72   2014   Makkah            149234   21.628962766  41.263690\n",
       " 155  2014   Riyadh            194208  23.0814341634  45.585751\n",
       " 255  2014  Eastern            121774  23.2883307307  50.147830,\n",
       "     year   region  driving_licenses         x_area    y_area\n",
       " 16  2015  Eastern            135752  23.2883307307  50.14783\n",
       " 17  2015    Assir             38567  19.1387847401  42.94147\n",
       " 68  2015   Makkah            157389   21.628962766  41.26369,\n",
       "      year   region  driving_licenses         x_area     y_area\n",
       " 158  2016   Makkah            136055   21.628962766  41.263690\n",
       " 215  2016     Hail             54507   27.400845724  41.440696\n",
       " 256  2016  Eastern            142307  23.2883307307  50.147830\n",
       " 293  2016   Riyadh            242851  23.0814341634  45.585751,\n",
       "      year   region  driving_licenses         x_area     y_area\n",
       " 94   2017  Eastern            126816  23.2883307307  50.147830\n",
       " 157  2017   Makkah            142487   21.628962766  41.263690\n",
       " 292  2017   Riyadh            495307  23.0814341634  45.585751]"
      ]
     },
     "execution_count": 1205,
     "metadata": {},
     "output_type": "execute_result"
    }
   ],
   "source": [
    "years_mean_d= driving_licenses_no_total.groupby('year')['driving_licenses'].mean().reset_index()\n",
    "lic_mean_d = []\n",
    "for year in years_mean_d['year']:\n",
    "    if len(driving_licenses_no_total[(driving_licenses_no_total['driving_licenses'] > years_mean_d[years_mean_d['year'] == year].iloc[0][\"driving_licenses\"]) & \\\n",
    "                             (driving_licenses_no_total['year'] == year)].index) > 0:\n",
    "        lic_mean_d.append(pd.DataFrame(driving_licenses_no_total[(driving_licenses_no_total['driving_licenses'] > years_mean_d[years_mean_d['year'] == year].iloc[0]['driving_licenses']) & \\\n",
    "                                              (driving_licenses_no_total['year'] == year)]))\n",
    "        \n",
    "lic_mean_d"
   ]
  },
  {
   "cell_type": "markdown",
   "metadata": {},
   "source": [
    "### What are the regions that have more Traffic Accidents happened in each year than the year average?\n",
    "- Assir\n",
    "- Eastern\n",
    "- Makkah\n",
    "- Riyadh"
   ]
  },
  {
   "cell_type": "code",
   "execution_count": 1207,
   "metadata": {
    "scrolled": true
   },
   "outputs": [
    {
     "name": "stdout",
     "output_type": "stream",
     "text": [
      "     region  year  No. of Accidents\n",
      "3     Assir  2016             32684\n",
      "4   Eastern  2016            101619\n",
      "8    Makkah  2016            134838\n",
      "11   Riyadh  2016            141736\n",
      "     region  year  No. of Accidents\n",
      "3     Assir  2016             32684\n",
      "4   Eastern  2016            101619\n",
      "8    Makkah  2016            134838\n",
      "11   Riyadh  2016            141736\n",
      "     region  year  No. of Accidents\n",
      "17    Assir  2017             25245\n",
      "18  Eastern  2017             81433\n",
      "22   Makkah  2017            145541\n",
      "25   Riyadh  2017             99925\n"
     ]
    }
   ],
   "source": [
    "#average_d\n",
    "#group_d=driving_licenses_no_total.groupby(['region','year']).sum()\n",
    "years_mean = traffic_accidents4.groupby('year')['no_accidents'].mean().reset_index()\n",
    "lic_mean = []\n",
    "\n",
    "for year in years_mean['year']:\n",
    "    if len(combined_datasets[(combined_datasets['No. of Accidents'] > years_mean[years_mean['year'] == year].iloc[0][\"no_accidents\"]) & \\\n",
    "                             (combined_datasets['year'] == year)].index) > 0:\n",
    "        lic_mean.append(pd.DataFrame(combined_datasets[(combined_datasets['No. of Accidents'] > years_mean[years_mean['year'] == year].iloc[0]['no_accidents']) & \\\n",
    "                                              (combined_datasets['year'] == year)]))\n",
    "        for df in lic_mean:\n",
    "            print(df.iloc[:,:3])\n"
   ]
  },
  {
   "cell_type": "code",
   "execution_count": 898,
   "metadata": {},
   "outputs": [
    {
     "data": {
      "text/plain": [
       "                  year\n",
       "driving_licenses  1993    Northern Boarder\n",
       "                  1994    Northern Boarder\n",
       "                  1995    Northern Boarder\n",
       "                  1996    Northern Boarder\n",
       "                  1997    Northern Boarder\n",
       "                  1998    Northern Boarder\n",
       "                  1999    Northern Boarder\n",
       "                  2000    Northern Boarder\n",
       "                  2001    Northern Boarder\n",
       "                  2002    Northern Boarder\n",
       "                  2003    Northern Boarder\n",
       "                  2004    Northern Boarder\n",
       "                  2005    Northern Boarder\n",
       "                  2006    Northern Boarder\n",
       "                  2007             Al-Baha\n",
       "                  2008    Northern Boarder\n",
       "                  2009    Northern Boarder\n",
       "                  2010    Northern Boarder\n",
       "                  2011    Northern Boarder\n",
       "                  2012    Northern Boarder\n",
       "                  2013    Northern Boarder\n",
       "                  2014    Northern Boarder\n",
       "                  2015              Tabouk\n",
       "                  2016              Najran\n",
       "                  2017             Al-Baha\n",
       "dtype: object"
      ]
     },
     "execution_count": 898,
     "metadata": {},
     "output_type": "execute_result"
    }
   ],
   "source": [
    "driving_licenses_grouped_max=pd.pivot_table(driving_licenses,index=['region'],values=['driving_licenses'],columns='year')\n",
    "driving_licenses_grouped.idxmax()\n",
    "driving_licenses_grouped_min=pd.pivot_table(driving_licenses,index=['region'],values=['driving_licenses'],columns='year')\n",
    "driving_licenses_grouped.idxmin()"
   ]
  },
  {
   "cell_type": "code",
   "execution_count": 931,
   "metadata": {},
   "outputs": [
    {
     "data": {
      "text/plain": [
       "(              year\n",
       " no_accidents  2016     Najran\n",
       "               2017    Al-Baha\n",
       " dtype: object,               year\n",
       " no_accidents  2016    Makkah\n",
       "               2017    Makkah\n",
       " dtype: object)"
      ]
     },
     "execution_count": 931,
     "metadata": {},
     "output_type": "execute_result"
    }
   ],
   "source": [
    "traffic_accidents4_no_total=traffic_accidents4[traffic_accidents4.region != 'Total']\n",
    "r=pd.pivot_table(traffic_accidents4_no_total,index=['region'],values=['no_accidents'],columns='year')\n",
    "r.idxmin(), r.idxmax()"
   ]
  },
  {
   "cell_type": "markdown",
   "metadata": {},
   "source": [
    "## Visualize the data\n",
    "\n",
    "There's not a magic bullet recommendation for the right number of plots to understand a given dataset, but visualizing your data is *always* a good idea. Not only does it allow you to quickly convey your findings (even if you have a non-technical audience), it will often reveal trends in your data that escaped you when you were looking only at numbers.\n",
    "\n",
    "Some recommendations on plotting:\n",
    "- Plots have titles\n",
    "- Plots have axis labels\n",
    "- Plots have appropriate tick labels\n",
    "- All text is legible in a plot\n",
    "- Plots demonstrate meaningful and valid relationships\n",
    "- Plots are interpreted to aid understanding\n",
    "\n",
    "There is such a thing as too many plots, and there are a *lot* of bad plots. You might make some! (But hopefully not with the guided prompts below)."
   ]
  },
  {
   "cell_type": "markdown",
   "metadata": {},
   "source": [
    "#### Use Seaborn's heatmap with pandas `.corr()` to visualize correlations between all numeric features\n",
    "\n",
    "Heatmaps are generally not appropriate for presentations, and should often be excluded from reports as they can be visually overwhelming. **However**, they can be extremely useful in identify relationships of potential interest (as well as identifying potential collinearity before modeling).\n",
    "\n",
    "*example*:\n",
    "```python\n",
    "sns.heatmap(df.corr())\n",
    "```\n",
    "\n",
    "Please take time to format your output, adding a title. Look through some of the additional arguments and options. (Axis labels aren't really necessary, as long as the title is informative)."
   ]
  },
  {
   "cell_type": "code",
   "execution_count": 1220,
   "metadata": {},
   "outputs": [
    {
     "data": {
      "image/png": "[encoded data removed]",
      "text/plain": [
       "<Figure size 432x288 with 2 Axes>"
      ]
     },
     "metadata": {
      "needs_background": "light"
     },
     "output_type": "display_data"
    }
   ],
   "source": [
    "sns.heatmap(driving_licenses.corr())\n",
    "plt.title('Driving Licenses')\n",
    "plt.show()"
   ]
  },
  {
   "cell_type": "markdown",
   "metadata": {},
   "source": [
    "#### Define a custom function to subplot histograms\n",
    "\n",
    "We should write a function that will take the names of 2+ columns and subplot histograms. While you can use pandas plotting or Seaborn here, matplotlib gives you greater control over all aspects of your plots.\n",
    "\n",
    "[Helpful Link for Plotting Multiple Figures](https://matplotlib.org/users/pyplot_tutorial.html#working-with-multiple-figures-and-axes)\n",
    "\n",
    "Here's some starter code:"
   ]
  },
  {
   "cell_type": "code",
   "execution_count": 1224,
   "metadata": {},
   "outputs": [],
   "source": [
    "def subplot_histograms(dataframe, list_of_columns, list_of_titles, list_of_xlabels):\n",
    "    nrows = int(np.ceil(len(list_of_columns)/2)) # Makes sure you have enough rows\n",
    "    fig, ax = plt.subplots(nrows=nrows, ncols=2) # You'll want to specify your figsize\n",
    "    ax = ax.ravel() # Ravel turns a matrix into a vector, which is easier to iterate\n",
    "    for i, column in enumerate(list_of_columns): # Gives us an index value to get into all our lists\n",
    "        ax[i].hist(dataframe[column]) # feel free to add more settings\n",
    "        # Set titles, labels, etc here for each subplot\n",
    "        ax[i].set_title\n",
    "        ax[i].set_xlabel\n",
    "        sns.distplot(dataframe[column], bins=20, kde=False, ax=ax[i], color = 'blue')"
   ]
  },
  {
   "cell_type": "markdown",
   "metadata": {},
   "source": [
    "#### Plot and interpret histograms \n",
    "For each of the following:\n",
    "- Driving Licenses number\n",
    "- Traffic Accidents number\n",
    "\n",
    "Please plot two additional histograms that will help with your understanding of the data"
   ]
  },
  {
   "cell_type": "code",
   "execution_count": 1227,
   "metadata": {},
   "outputs": [
    {
     "data": {
      "image/png": "[encoded data removed]",
      "text/plain": [
       "<Figure size 432x288 with 1 Axes>"
      ]
     },
     "metadata": {
      "needs_background": "light"
     },
     "output_type": "display_data"
    }
   ],
   "source": [
    "# Code\n",
    "plt.hist(np.log1p(driving_licenses_no_total['driving_licenses']))\n",
    "plt.show()"
   ]
  },
  {
   "cell_type": "code",
   "execution_count": 1228,
   "metadata": {},
   "outputs": [
    {
     "data": {
      "image/png": "[encoded data removed]",
      "text/plain": [
       "<Figure size 432x288 with 1 Axes>"
      ]
     },
     "metadata": {
      "needs_background": "light"
     },
     "output_type": "display_data"
    }
   ],
   "source": [
    "plt.hist(np.log1p(traffic_accidents4_no_total['no_accidents']))\n",
    "plt.show()"
   ]
  },
  {
   "cell_type": "markdown",
   "metadata": {},
   "source": [
    "#### Plot and interpret scatter plots\n",
    "\n",
    "For each of the following:\n",
    "- Driving Licenses vs. Traffic Accidents for 2017\n",
    "- Driving Licenses vs. Traffic Accidents for 2016\n",
    "- Driving Licenses for 2016 vs 2017\n",
    "- Traffic Accidents for 2016 vs 2017\n",
    "\n",
    "Plot the two variables against each other using matplotlib or Seaborn\n",
    "\n",
    "Your plots should show:\n",
    "- Two clearly labeled axes\n",
    "- A proper title\n",
    "- Using colors and symbols that are clear and unmistakable\n",
    "\n",
    "**Feel free to write a custom function, and subplot if you'd like.** Functions save both time and space.\n"
   ]
  },
  {
   "cell_type": "code",
   "execution_count": 933,
   "metadata": {
    "scrolled": true
   },
   "outputs": [
    {
     "data": {
      "image/png": "[encoded data removed]",
      "text/plain": [
       "<Figure size 432x288 with 1 Axes>"
      ]
     },
     "metadata": {
      "needs_background": "light"
     },
     "output_type": "display_data"
    }
   ],
   "source": [
    "# Code\n",
    "combined_datasets_2017=combined_datasets[combined_datasets['year']==2017]\n",
    "combined_datasets_2017.plot.scatter(x='No. of Accidents',y='driving_licenses')\n",
    "plt.show()\n"
   ]
  },
  {
   "cell_type": "code",
   "execution_count": 850,
   "metadata": {},
   "outputs": [
    {
     "data": {
      "image/png": "[encoded data removed]",
      "text/plain": [
       "<Figure size 432x288 with 1 Axes>"
      ]
     },
     "metadata": {
      "needs_background": "light"
     },
     "output_type": "display_data"
    }
   ],
   "source": [
    "combined_datasets_2016=combined_datasets[combined_datasets['year']==2016]\n",
    "combined_datasets_2016.plot.scatter(x='No. of Accidents',y='driving_licenses')\n",
    "plt.show()"
   ]
  },
  {
   "cell_type": "code",
   "execution_count": 1234,
   "metadata": {},
   "outputs": [],
   "source": [
    "driving_licenses_no_total_2017=driving_licenses_no_total[driving_licenses_no_total['year']==2017]"
   ]
  },
  {
   "cell_type": "code",
   "execution_count": 1242,
   "metadata": {
    "scrolled": false
   },
   "outputs": [
    {
     "data": {
      "image/png": "[encoded data removed]",
      "text/plain": [
       "<Figure size 432x288 with 1 Axes>"
      ]
     },
     "metadata": {
      "needs_background": "light"
     },
     "output_type": "display_data"
    }
   ],
   "source": [
    "plt.scatter(driving_licenses_no_total_2016['driving_licenses'], driving_licenses_no_total_2017['driving_licenses'])\n",
    "plt.xlabel('2016')\n",
    "plt.ylabel('2017')\n",
    "plt.show()"
   ]
  },
  {
   "cell_type": "code",
   "execution_count": 1244,
   "metadata": {},
   "outputs": [],
   "source": [
    "traffic_accidents4_no_total_2017=traffic_accidents4_no_total[traffic_accidents4_no_total['year']==2017]\n",
    "traffic_accidents4_no_total_2016=traffic_accidents4_no_total[traffic_accidents4_no_total['year']==2016]"
   ]
  },
  {
   "cell_type": "code",
   "execution_count": 1246,
   "metadata": {},
   "outputs": [
    {
     "data": {
      "image/png": "[encoded data removed]",
      "text/plain": [
       "<Figure size 432x288 with 1 Axes>"
      ]
     },
     "metadata": {
      "needs_background": "light"
     },
     "output_type": "display_data"
    }
   ],
   "source": [
    "plt.scatter(traffic_accidents4_no_total_2016['no_accidents'], traffic_accidents4_no_total_2017['no_accidents'],)\n",
    "plt.xlabel('2016')\n",
    "plt.ylabel('2017')\n",
    "plt.show()"
   ]
  },
  {
   "cell_type": "markdown",
   "metadata": {},
   "source": [
    "#### Plot and interpret boxplots\n",
    "\n",
    "For each numeric variable in the dataframe create a boxplot using Seaborn. Boxplots demonstrate central tendency and spread in variables. In a certain sense, these are somewhat redundant with histograms, but you may be better able to identify clear outliers or differences in IQR, etc.\n",
    "\n",
    "Multiple values can be plotted to a single boxplot as long as they are of the same relative scale (meaning they have similar min/max values).\n",
    "\n",
    "Each boxplot should:\n",
    "- Only include variables of a similar scale\n",
    "- Have clear labels for each variable\n",
    "- Have appropriate titles and labels"
   ]
  },
  {
   "cell_type": "code",
   "execution_count": 1503,
   "metadata": {},
   "outputs": [
    {
     "data": {
      "image/png": "[encoded data removed]",
      "text/plain": [
       "<Figure size 1080x360 with 3 Axes>"
      ]
     },
     "metadata": {
      "needs_background": "light"
     },
     "output_type": "display_data"
    }
   ],
   "source": [
    "# Code casualties_types no_accidents\n",
    "#traffic_accidents4_no_total_2016.boxplot(column='no_accidents', by='casualties_types')\n",
    "#combined_datasets\n",
    "#a=traffic_accidents4_no_total[traffic_accidents4_no_total['casualties_types']== 'No. of Accidents']\n",
    "#b=traffic_accidents4_no_total[traffic_accidents4_no_total['casualties_types']== 'No. of Casualties - Dead']\n",
    "#c=traffic_accidents4_no_total[traffic_accidents4_no_total['casualties_types']== 'No. of Casualties - Injured']\n",
    "f, axes = plt.subplots(1, 3, figsize=(15,5))\n",
    "sns.boxplot(x='year',y='no_accidents',data=a, ax=axes[0])\n",
    "\n",
    "sns.boxplot(x='year',y='no_accidents',data=b, ax=axes[1])\n",
    "\n",
    "sns.boxplot(x='year',y='no_accidents',data=c, ax=axes[2])\n",
    "plt.show()"
   ]
  },
  {
   "cell_type": "markdown",
   "metadata": {},
   "source": [
    "#### Feel free to do additional plots below\n",
    "*(do research and choose your own chart types & variables)*\n",
    "\n",
    "Are there any additional trends or relationships you haven't explored? Was there something interesting you saw that you'd like to dive further into? It's likely that there are a few more plots you might want to generate to support your narrative and recommendations that you are building toward. **As always, make sure you're interpreting your plots as you go**."
   ]
  },
  {
   "cell_type": "code",
   "execution_count": 1542,
   "metadata": {},
   "outputs": [
    {
     "data": {
      "image/png": "[encoded data removed]",
      "text/plain": [
       "<Figure size 648x648 with 3 Axes>"
      ]
     },
     "metadata": {},
     "output_type": "display_data"
    }
   ],
   "source": [
    "k[['No. of Accidents','No. of Casualties - Dead','No. of Casualties - Injured']].plot(kind='bar',subplots=True,\\\n",
    "                                                                                      figsize=(9,9),legend=True,title=('Total Number of Accidents Classified by Regions'))\n",
    "plt.show()\n",
    "\n"
   ]
  },
  {
   "cell_type": "code",
   "execution_count": 1547,
   "metadata": {
    "scrolled": true
   },
   "outputs": [
    {
     "data": {
      "image/png": "[encoded data removed]",
      "text/plain": [
       "<Figure size 1080x504 with 1 Axes>"
      ]
     },
     "metadata": {},
     "output_type": "display_data"
    }
   ],
   "source": [
    "# #k=combined_datasets.set_index('region')\n",
    "# k[['No. of Accidents','No. of Casualties - Dead','No. of Casualties - Injured']].plot(kind='bar',subplots=True,\\\n",
    "#                                                                                        figsize=(9,9),legend=True)\n",
    "# plt.show()\n",
    "#k=k.set_index('region')\n",
    "#k=k[k.year== 2017]\n",
    "sns.set(rc={'figure.figsize':(15,7)})\n",
    "sns.barplot(x='region',y='no_accidents',data=traffic_accidents4_no_total, hue='year',).set_title('Total Number of Accidents by Region During (2016 - 2017)')\n",
    "\n",
    "plt.show()"
   ]
  },
  {
   "cell_type": "code",
   "execution_count": null,
   "metadata": {},
   "outputs": [],
   "source": []
  },
  {
   "cell_type": "markdown",
   "metadata": {},
   "source": [
    "## Descriptive and Inferential Statistics"
   ]
  },
  {
   "cell_type": "markdown",
   "metadata": {},
   "source": [
    "#### Summarizing Distributions\n",
    "\n",
    "Above, we used pandas `describe` to provide quick summary statistics of our numeric columns. We also demonstrated many visual relationships.\n",
    "\n",
    "As data scientists, having a complete understanding of data is imperative prior to modeling.\n",
    "\n",
    "While we will continue to build our analytic tools, we know that measures of *central tendency*, *spread*, and *shape/skewness* provide a quick summary of distributions.\n",
    "\n",
    "For each variable in your data, summarize the underlying distributions (in words & statistics)\n",
    " - Be thorough in your verbal description of these distributions.\n",
    " - Be sure to back up these summaries with statistics."
   ]
  },
  {
   "cell_type": "code",
   "execution_count": 1363,
   "metadata": {
    "scrolled": true
   },
   "outputs": [
    {
     "data": {
      "text/plain": [
       "<matplotlib.axes._subplots.AxesSubplot at 0x1a32cef320>"
      ]
     },
     "execution_count": 1363,
     "metadata": {},
     "output_type": "execute_result"
    },
    {
     "data": {
      "image/png": "[encoded data removed]",
      "text/plain": [
       "<Figure size 432x288 with 1 Axes>"
      ]
     },
     "metadata": {
      "needs_background": "light"
     },
     "output_type": "display_data"
    }
   ],
   "source": [
    "#Answers:\n",
    "sns.distplot(t['driving_licenses'])\n"
   ]
  },
  {
   "cell_type": "code",
   "execution_count": 1362,
   "metadata": {},
   "outputs": [],
   "source": [
    "#driving_licenses_no_total.sort_values(by='driving_licenses')\n",
    "t=driving_licenses_no_total[driving_licenses_no_total['year']==2017]"
   ]
  },
  {
   "cell_type": "markdown",
   "metadata": {},
   "source": [
    "#### We generally assuming that data we sample from a population will be normally distributed. Do we observe this trend?"
   ]
  },
  {
   "cell_type": "markdown",
   "metadata": {},
   "source": [
    "Answer:"
   ]
  },
  {
   "cell_type": "markdown",
   "metadata": {},
   "source": [
    "Does This Assumption Hold for:\n",
    "    - Driving Licenses\n",
    "    - Traffic Accidents\n",
    "Explain your answers for each distribution and how you think this will affect estimates made from these data."
   ]
  },
  {
   "cell_type": "markdown",
   "metadata": {},
   "source": [
    "Answer:"
   ]
  },
  {
   "cell_type": "markdown",
   "metadata": {},
   "source": [
    "#### Statistical Evaluation of Distributions \n",
    "\n",
    "**If you feel it's appropriate**, using methods we discussed in class, run hypothesis tests to compare variables of interest in our dataset. "
   ]
  },
  {
   "cell_type": "code",
   "execution_count": 1513,
   "metadata": {},
   "outputs": [
    {
     "data": {
      "text/html": [
       "<div>\n",
       "<style scoped>\n",
       "    .dataframe tbody tr th:only-of-type {\n",
       "        vertical-align: middle;\n",
       "    }\n",
       "\n",
       "    .dataframe tbody tr th {\n",
       "        vertical-align: top;\n",
       "    }\n",
       "\n",
       "    .dataframe thead th {\n",
       "        text-align: right;\n",
       "    }\n",
       "</style>\n",
       "<table border=\"1\" class=\"dataframe\">\n",
       "  <thead>\n",
       "    <tr style=\"text-align: right;\">\n",
       "      <th></th>\n",
       "      <th>year</th>\n",
       "      <th>region</th>\n",
       "      <th>casualties_types</th>\n",
       "      <th>no_accidents</th>\n",
       "      <th>x_area</th>\n",
       "      <th>y_area</th>\n",
       "    </tr>\n",
       "  </thead>\n",
       "  <tbody>\n",
       "    <tr>\n",
       "      <th>0</th>\n",
       "      <td>2016</td>\n",
       "      <td>Makkah</td>\n",
       "      <td>No. of Casualties - Injured</td>\n",
       "      <td>12383</td>\n",
       "      <td>21.628963</td>\n",
       "      <td>41.263690</td>\n",
       "    </tr>\n",
       "    <tr>\n",
       "      <th>1</th>\n",
       "      <td>2016</td>\n",
       "      <td>Eastern</td>\n",
       "      <td>No. of Casualties - Dead</td>\n",
       "      <td>1113</td>\n",
       "      <td>23.288331</td>\n",
       "      <td>50.147830</td>\n",
       "    </tr>\n",
       "    <tr>\n",
       "      <th>2</th>\n",
       "      <td>2016</td>\n",
       "      <td>Tabouk</td>\n",
       "      <td>No. of Casualties - Dead</td>\n",
       "      <td>434</td>\n",
       "      <td>27.901655</td>\n",
       "      <td>37.259858</td>\n",
       "    </tr>\n",
       "    <tr>\n",
       "      <th>3</th>\n",
       "      <td>2016</td>\n",
       "      <td>Hail</td>\n",
       "      <td>No. of Casualties - Dead</td>\n",
       "      <td>299</td>\n",
       "      <td>27.400846</td>\n",
       "      <td>41.440696</td>\n",
       "    </tr>\n",
       "    <tr>\n",
       "      <th>4</th>\n",
       "      <td>2016</td>\n",
       "      <td>Hail</td>\n",
       "      <td>No. of Accidents</td>\n",
       "      <td>10199</td>\n",
       "      <td>27.400846</td>\n",
       "      <td>41.440696</td>\n",
       "    </tr>\n",
       "  </tbody>\n",
       "</table>\n",
       "</div>"
      ],
      "text/plain": [
       "   year   region             casualties_types  no_accidents     x_area  \\\n",
       "0  2016   Makkah  No. of Casualties - Injured         12383  21.628963   \n",
       "1  2016  Eastern     No. of Casualties - Dead          1113  23.288331   \n",
       "2  2016   Tabouk     No. of Casualties - Dead           434  27.901655   \n",
       "3  2016     Hail     No. of Casualties - Dead           299  27.400846   \n",
       "4  2016     Hail             No. of Accidents         10199  27.400846   \n",
       "\n",
       "      y_area  \n",
       "0  41.263690  \n",
       "1  50.147830  \n",
       "2  37.259858  \n",
       "3  41.440696  \n",
       "4  41.440696  "
      ]
     },
     "execution_count": 1513,
     "metadata": {},
     "output_type": "execute_result"
    }
   ],
   "source": [
    "# Code\n",
    "sns.barplot()"
   ]
  },
  {
   "cell_type": "markdown",
   "metadata": {},
   "source": [
    "## Outside Research"
   ]
  },
  {
   "cell_type": "markdown",
   "metadata": {},
   "source": [
    "Based upon your observations, choose **three** regions that demonstrate interesting trends in the number of driving licenses and traffic accidents. Spend some time doing outside research on provincial and central policies that might influence these rates, and summarize your findings below. **Feel free to go back and create new plots that highlight these states of interest**. If you bring in any outside tables or charts, make sure you are explicit about having borrowed them. If you quote any text, make sure that it renders as being quoted. (Make sure that you cite your sources -- check with you local instructor for citation preferences)."
   ]
  },
  {
   "cell_type": "markdown",
   "metadata": {},
   "source": [
    "Answer:\n",
    "\n",
    "\n",
    "\n",
    "\n",
    "\n",
    "\n"
   ]
  },
  {
   "cell_type": "markdown",
   "metadata": {},
   "source": [
    "## Conclusions and Recommendations"
   ]
  },
  {
   "cell_type": "markdown",
   "metadata": {},
   "source": [
    "- Based on your exploration of the data, what are you key takeaways and recommendations?\n",
    "- Are there additional data you desire that would better inform your investigations?"
   ]
  },
  {
   "cell_type": "markdown",
   "metadata": {},
   "source": [
    "Answer:"
   ]
  }
 ],
 "metadata": {
  "anaconda-cloud": {},
  "kernelspec": {
   "display_name": "Python 3",
   "language": "python",
   "name": "python3"
  },
  "language_info": {
   "codemirror_mode": {
    "name": "ipython",
    "version": 3
   },
   "file_extension": ".py",
   "mimetype": "text/x-python",
   "name": "python",
   "nbconvert_exporter": "python",
   "pygments_lexer": "ipython3",
   "version": "3.7.1"
  }
 },
 "nbformat": 4,
 "nbformat_minor": 2
}
